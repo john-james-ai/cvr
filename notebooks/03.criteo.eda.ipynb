{
 "cells": [
  {
   "cell_type": "markdown",
   "metadata": {},
   "source": [
    "# Criteo Sponsored Search Conversion Log Dataset \n",
    "## Exploratory Data Analysis\n",
    "This dataset contains logs obtained from Criteo Predictive Search (CPS). Each row in the dataset represents an action (i.e. click) performed by the user on a product related advertisement. The product advertisement was shown to the user, post the user expressing an intent via an online search engine.  Each row in the dataset, contains information about the product characteristics (age, brand, gender, price), time of the click ( subject to uniform shift), user characteristics and device information. The logs also contain information on whether the clicks eventually led to a conversion (product was bought) within a 30 day window and the time between click and the conversion.\n",
    "\n",
    "This dataset represents a sample of 90 days of Criteo live traffic data. Each line corresponds to one click (product related advertisement) that was displayed to a user. For each advertisement, detailed information is provided about the product. Further, information is provided on whether the click led to a conversion, amount of conversion and the time between the click and the conversion.  \n",
    "\n",
    "**Delimited**: \\t (tab separated)\n",
    "\n",
    "**Missing Value Indicator**: -1 ( Missing value indicator is 0 for click_timestamp)\n",
    "\n",
    "**Outcome/Labels**\n",
    "- Sale : Indicates 1 if conversion occurred and 0 if not).\n",
    "- SalesAmountInEuro : Indicates the revenue obtained when a conversion took place. This might be different from product-price, due to attribution issues. It is -1, when no conversion took place.\n",
    "- Time_delay_for_conversion : This indicates the time between click and conversion. It is -1, when no conversion took place.\n",
    "\n",
    "**Features**\n",
    "- click_timestamp: Timestamp of the click. The dataset is sorted according to timestamp.\n",
    "- nb_clicks_1week: Number of clicks the product related advertisement has received in the last 1 week.\n",
    "- product_price: Price of the product shown in the advertisement.\n",
    "- product_age_group: The intended user age group of the user, the product is made for.\n",
    "- device_type: This indicates whether it is a returning user or a new user on mobile, tablet or desktop. \n",
    "- audience_id:  We do not disclose the meaning of this feature.\n",
    "- product_gender: The intended gender of the user, the product is made for.\n",
    "- product_brand: Categorical feature about the brand of the product.\n",
    "- product_category(1-7): Categorical features associated to the product. We do not disclose the meaning of these features.\n",
    "- product_country: Country in which the product is sold.\n",
    "- product_id: Unique identifier associated with every product.\n",
    "- product_title: Hashed title of the product.\n",
    "- partner_id: Unique identifier associated with the seller of the product.\n",
    "- user_id: Unique identifier associated with every user.\n",
    "\n",
    "Note :- All categorical features have been hashed."
   ]
  },
  {
   "cell_type": "code",
   "execution_count": null,
   "metadata": {},
   "outputs": [],
   "source": [
    "import pandas as pd\n",
    "import numpy as np\n",
    "from datetime import datetime\n",
    "import matplotlib.pyplot as plt\n",
    "%matplotlib inline\n",
    "import seaborn as sns\n",
    "from IPython.display import display, HTML\n",
    "pd.options.display.float_format = '{:,}'.format\n",
    "#-----------------------------------------\n",
    "from cvr.data.processing import Data\n"
   ]
  },
  {
   "cell_type": "markdown",
   "metadata": {},
   "source": [
    "## 1. Acquire Data\n",
    "### 1.0 Parameters"
   ]
  },
  {
   "cell_type": "code",
   "execution_count": null,
   "metadata": {},
   "outputs": [],
   "source": [
    "filepath = \"data\\external\\criteo\\criteo.txt\"\n",
    "dev = True\n",
    "sample_size = 0.01\n",
    "sep = \"\\t\"\n",
    "random_state = 55"
   ]
  },
  {
   "cell_type": "markdown",
   "metadata": {},
   "source": [
    "### 1.1. Load Data\n",
    "Data is the class responsible for manipulating data. We can pass it the filepath and some information about the file structure and it loads the raw data. Calling the stage method stages the data for analysis. "
   ]
  },
  {
   "cell_type": "code",
   "execution_count": null,
   "metadata": {},
   "outputs": [],
   "source": [
    "cd = Data(filepath,dev,sep,sample,random_state)\n",
    "cd.stage()"
   ]
  },
  {
   "cell_type": "markdown",
   "metadata": {},
   "source": [
    "## 2. Explore the Data\n",
    "CriteoEDA class supports the exploration and analysis of the data. Let's instantiate the EDA class with "
   ]
  }
 ],
 "metadata": {
  "interpreter": {
   "hash": "078ce54cdb689fec4ef1089d65b6276683f26ec540c99c43312f7b4697e1d81c"
  },
  "kernelspec": {
   "display_name": "Python 3.7.12 64-bit ('deepcvr': conda)",
   "language": "python",
   "name": "python3"
  },
  "language_info": {
   "codemirror_mode": {
    "name": "ipython",
    "version": 3
   },
   "file_extension": ".py",
   "mimetype": "text/x-python",
   "name": "python",
   "nbconvert_exporter": "python",
   "pygments_lexer": "ipython3",
   "version": "3.7.12"
  },
  "orig_nbformat": 4
 },
 "nbformat": 4,
 "nbformat_minor": 2
}
