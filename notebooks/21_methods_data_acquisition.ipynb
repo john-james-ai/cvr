{
 "cells": [
  {
   "cell_type": "markdown",
   "metadata": {},
   "source": [
    "# Data Acquisition\n",
    "Modeling the state-of-the-art from the 1970s, we'll obtain the data using the standard extract, transform and load (ETL) design pattern.  This will require a Criteo data source configuration, a series of tasks to perform the ETL operations, a pipeline to orchestrate the process, and a workspace into which the output Dataset object will be loaded. We'll import them now and introduce the modules enroute."
   ]
  },
  {
   "cell_type": "code",
   "execution_count": 1,
   "metadata": {
    "tags": [
     "hide-output",
     "remove-output"
    ]
   },
   "outputs": [],
   "source": [
    "# IMPORTS\n",
    "from myst_nb import glue\n",
    "import pandas as pd\n",
    "pd.set_option('display.width', 1000)\n",
    "pd.options.display.float_format = '{:,.2f}'.format\n",
    "\n",
    "from cvr.core.dataset import DatasetRequest\n",
    "from cvr.core.workspace import Workspace, WorkspaceManager\n",
    "from cvr.utils.config import CriteoConfig \n",
    "from cvr.data.etl import Extract, TransformETL, LoadDataset\n",
    "from cvr.core.pipeline import DataPipeline, DataPipelineBuilder, DataPipelineRequest\n"
   ]
  },
  {
   "cell_type": "markdown",
   "metadata": {},
   "source": [
    "## Workspace\n",
    "Before we set up the ETL pipeline, we will need to establish a workspace for it. A Workspace object is essentially a container for Datasets, Models, and Experiments. Singleton class WorkspaceManager allows us to create and manage Workspace objects. "
   ]
  },
  {
   "cell_type": "code",
   "execution_count": 2,
   "metadata": {},
   "outputs": [],
   "source": [
    "# REMOVE\n",
    "wsm = WorkspaceManager()\n",
    "wsm.delete_workspace('Trieste')"
   ]
  },
  {
   "cell_type": "code",
   "execution_count": 3,
   "metadata": {},
   "outputs": [],
   "source": [
    "wsm = WorkspaceManager()\n",
    "workspace = wsm.create_workspace(name='Trieste')\n",
    "workspace_name = workspace.name\n",
    "workspace_directory = workspace.directory"
   ]
  },
  {
   "cell_type": "markdown",
   "metadata": {},
   "source": [
    "Workspace Trieste has been created and is now the 'current' workspace. Datasets, Models, and Experiments will be contained within this workspace until another workspace is created and/or set current."
   ]
  },
  {
   "cell_type": "markdown",
   "metadata": {},
   "source": [
    "## Data Source\n",
    "The CriteoConfig object packages the URL, file structure, and local destination file path information for the Criteo data source. For illustrative purposes, the CriteoConfig on this machine is shown below."
   ]
  },
  {
   "cell_type": "code",
   "execution_count": 4,
   "metadata": {},
   "outputs": [
    {
     "name": "stdout",
     "output_type": "stream",
     "text": [
      "\n",
      "\n",
      "                        Criteo Data Source Configuration                        \n",
      "                        ________________________________                        \n",
      "                         name : Criteo Sponsored Search Conversion Log Dataset\n",
      "                          url : http://go.criteo.net/criteo-research-search-conversion.tar.gz\n",
      "                  destination : data\\external\\criteo.tar.gz\n",
      "             filepath_extract : Criteo_Conversion_Search/CriteoSearchData\n",
      "                 filepath_raw : raw\\criteo.csv\n",
      "                          sep : \\t\n",
      "                      missing : -1\n"
     ]
    }
   ],
   "source": [
    "config = CriteoConfig()\n",
    "config.print()"
   ]
  },
  {
   "cell_type": "markdown",
   "metadata": {},
   "source": [
    "## Data Pipeline Steps\n",
    "Our pipeline consists of three steps, Extract, TransformETL and LoadDataset described below. \n",
    "\n",
    "| Step | Module       | Description                                                                     |\n",
    "|------|--------------|---------------------------------------------------------------------------------|\n",
    "| 1    | Extract      | Downloads the source data into a local raw data directory                       |\n",
    "| 2    | TransformETL | Transforms the raw data into a Dataset object and performs basic preprocessing. |\n",
    "| 3    | LoadDataset  | Loads the Dataset object into our current workspace.                            |\n",
    "\n",
    "The Extract step takes the CriteoConfig data source configuration object as input and produces our raw data. Transform ETL performs two basic preprocessing a priori based upon the description of the data provided by Criteo Labs. First, we convert the missing values indicator (-1) to NaNs. Second, we convert the categorical variables to the pandas' category data type for computation and space efficiency purposes. The pipeline tasks are instantiated below. Finally, LoadDataset loads the preprocessed Dataset object into our current workspace."
   ]
  },
  {
   "cell_type": "code",
   "execution_count": 5,
   "metadata": {},
   "outputs": [],
   "source": [
    "extract = Extract(datasource_config=config, chunk_size=20)\n",
    "transform=TransformETL(value=[-1,\"-1\"])\n",
    "load = LoadDataset()"
   ]
  },
  {
   "cell_type": "markdown",
   "metadata": {},
   "source": [
    "## Data Pipeline Request\n",
    "Specifying the parameters for the Pipeline and its resultant Dataset is performed via request objects. "
   ]
  },
  {
   "cell_type": "code",
   "execution_count": 6,
   "metadata": {},
   "outputs": [],
   "source": [
    "dataset_request = DatasetRequest(name=\"criteo\", \n",
    "                                 description=\"Criteo Preprocessed\", \n",
    "                                 stage=\"preprocessed\", \n",
    "                                 sample_size=10000,\n",
    "                                 workspace_name=workspace_name,\n",
    "                                 workspace_directory = workspace_directory,\n",
    "                                 )\n",
    "pipeline_request = DataPipelineRequest(name=\"etl\",\n",
    "                                       description=\"Extract Transform Load\",\n",
    "                                       stage=\"preprocessed\", \n",
    "                                       workspace_name=workspace_name,\n",
    "                                       workspace_directory=workspace_directory,\n",
    "                                       logging_level='info',\n",
    "                                       force=True,\n",
    "                                       verbose=True,\n",
    "                                       progress=False,\n",
    "                                       random_state=602, \n",
    "                                       dataset_request=dataset_request\n",
    "                                       )"
   ]
  },
  {
   "cell_type": "markdown",
   "metadata": {},
   "source": [
    "## Data Pipeline Builder\n",
    "Now, we pass our request to the DataPipelineBuilder object, add the tasks, and call the build method. The pipeline is provided via a property on the builder."
   ]
  },
  {
   "cell_type": "code",
   "execution_count": 7,
   "metadata": {},
   "outputs": [],
   "source": [
    "builder = DataPipelineBuilder()\n",
    "builder.reset()\n",
    "builder.make_request(pipeline_request) \n",
    "builder.add_task(extract)\n",
    "builder.add_task(transform)\n",
    "builder.add_task(load)\n",
    "builder.build()\n",
    "pipeline = builder.pipeline"
   ]
  },
  {
   "cell_type": "markdown",
   "metadata": {},
   "source": [
    "\n",
    "## ETL Pipeline Execution\n",
    "The dataset is approximately 6.5 GB; making this ETL a network and IO intensive process. Estimated processing time: 12 minutes. "
   ]
  },
  {
   "cell_type": "code",
   "execution_count": 8,
   "metadata": {},
   "outputs": [
    {
     "name": "stderr",
     "output_type": "stream",
     "text": [
      "Started etl\n",
      "\tDecompression initiated.\n",
      "\tSampling dataset initiated.\n",
      "\tSampling Complete! 10000 Rows Sampled.\n",
      "\tDecompression Complete! 6129.08 Mb Extracted.\n",
      "Completed etl\n"
     ]
    },
    {
     "name": "stdout",
     "output_type": "stream",
     "text": [
      "\n",
      "\n",
      "                              Pipeline etl Summary                              \n",
      "                              ____________________                              \n",
      "           Task                      Start                        End  Minutes   Status\n",
      "0       Extract 2022-01-31 11:20:12.112469 2022-01-31 11:24:59.676123     4.79  200: OK\n",
      "1  TransformETL 2022-01-31 11:24:59.680120 2022-01-31 11:24:59.821211     0.00  200: OK\n",
      "2   LoadDataset 2022-01-31 11:24:59.825246 2022-01-31 11:24:59.915289     0.00  200: OK\n"
     ]
    }
   ],
   "source": [
    "dataset = pipeline.run()\n",
    "pipeline.summary"
   ]
  },
  {
   "cell_type": "markdown",
   "metadata": {},
   "source": [
    "Our pipeline appears to have run successfully. Let's check the task summaries."
   ]
  },
  {
   "cell_type": "code",
   "execution_count": 9,
   "metadata": {},
   "outputs": [
    {
     "name": "stdout",
     "output_type": "stream",
     "text": [
      "\n",
      "\n",
      "                              Extract Task Summary                              \n",
      "                       Dataset: Etl / Preprocessed Stage                        \n",
      "                       _________________________________                        \n",
      "                    Size Extracted (Mb) : 6,129.08\n",
      "           Sampled Dataset Observations : 10,000\n",
      "              Sampled Dataset Size (Mb) : 3.48\n",
      "                                  Start : 2022-01-31 11:20:12.112469\n",
      "                                    End : 2022-01-31 11:24:59.676123\n",
      "                               Duration : 0:04:47.563654\n",
      "                                 Status : 200: OK\n",
      "                            Status Date : 2022-01-31\n",
      "                            Status Time : 11:24:59\n"
     ]
    }
   ],
   "source": [
    "xsum = extract.summary"
   ]
  },
  {
   "cell_type": "code",
   "execution_count": 10,
   "metadata": {
    "tags": [
     "hide-input"
    ]
   },
   "outputs": [
    {
     "data": {
      "application/papermill.record/text/plain": "1910.081"
     },
     "metadata": {
      "scrapbook": {
       "mime_prefix": "application/papermill.record/",
       "name": "etl_downloaded"
      }
     },
     "output_type": "display_data"
    },
    {
     "data": {
      "application/papermill.record/text/plain": "20"
     },
     "metadata": {
      "scrapbook": {
       "mime_prefix": "application/papermill.record/",
       "name": "etl_chunk_size"
      }
     },
     "output_type": "display_data"
    },
    {
     "data": {
      "application/papermill.record/text/plain": "97"
     },
     "metadata": {
      "scrapbook": {
       "mime_prefix": "application/papermill.record/",
       "name": "etl_chunks_downloaded"
      }
     },
     "output_type": "display_data"
    },
    {
     "data": {
      "application/papermill.record/text/plain": "5.102"
     },
     "metadata": {
      "scrapbook": {
       "mime_prefix": "application/papermill.record/",
       "name": "etl_speed"
      }
     },
     "output_type": "display_data"
    },
    {
     "data": {
      "application/papermill.record/text/plain": "6129.08"
     },
     "metadata": {
      "scrapbook": {
       "mime_prefix": "application/papermill.record/",
       "name": "etl_size"
      }
     },
     "output_type": "display_data"
    },
    {
     "data": {
      "application/papermill.record/text/plain": "4.79"
     },
     "metadata": {
      "scrapbook": {
       "mime_prefix": "application/papermill.record/",
       "name": "etl_duration"
      }
     },
     "output_type": "display_data"
    }
   ],
   "source": [
    "# GLUE\n",
    "_ = glue(\"etl_downloaded\",xsum.get(\"Content Length (Mb)\",1910.081), display=False)\n",
    "_ = glue(\"etl_chunk_size\", xsum.get(\"Chunk Size (Mb)\", 20), display=False)\n",
    "_ = glue(\"etl_chunks_downloaded\", xsum.get(\"Chunks Downloaded\",97), display=False)\n",
    "_ = glue(\"etl_speed\", xsum.get(\"Mbps\",5.102), display=False)\n",
    "_ = glue(\"etl_size\", xsum.get(\"Size Extracted (Mb)\",6129.08), display=False)\n",
    "if 'Duration' in xsum.keys():\n",
    "    _ = glue(\"etl_duration\", round(xsum[\"Duration\"].total_seconds() / 60,2), display=False)\n",
    "else:\n",
    "    _ = glue(\"etl_duration\",17.38)"
   ]
  },
  {
   "cell_type": "markdown",
   "metadata": {},
   "source": [
    "From this we see that we've downloaded {glue:}`etl_downloaded` Mb in about {glue:}`etl_duration` minutes in {glue:}`etl_chunks_downloaded`  {glue:}`etl_chunk_size` Mb chunks with an average throughput of {glue:}`etl_speed` Mbps. Next, we have the transform step."
   ]
  },
  {
   "cell_type": "code",
   "execution_count": 11,
   "metadata": {},
   "outputs": [
    {
     "name": "stdout",
     "output_type": "stream",
     "text": [
      "\n",
      "\n",
      "                           TransformETL Task Summary                            \n",
      "          Missing Values Replacement: Dataset Etl / Preprocessed Stage          \n",
      "          ____________________________________________________________          \n",
      "                       Before  After\n",
      "sale                        0      0\n",
      "sales_amount                0   8388\n",
      "conversion_time_delay       0   8392\n",
      "click_ts                    0      0\n",
      "n_clicks_1week              0   5300\n",
      "product_price               0      0\n",
      "product_age_group           0   8185\n",
      "device_type                 0      9\n",
      "audience_id                 0   7191\n",
      "product_gender              0   8206\n",
      "product_brand               0   7252\n",
      "product_category_1          0   5214\n",
      "product_category_2          0   5219\n",
      "product_category_3          0   5710\n",
      "product_category_4          0   7471\n",
      "product_category_5          0   9199\n",
      "product_category_6          0   9921\n",
      "product_category_7          0   9999\n",
      "product_country             0   1543\n",
      "product_id                  0   1543\n",
      "product_title              28   5242\n",
      "partner_id                  0      0\n",
      "user_id                     0      0\n",
      "\n",
      "\n",
      "                           TransformETL Task Summary                            \n",
      "                                                                                \n",
      "                           _________________________                            \n",
      "        Missing   Total   Pct\n",
      "Before       28  230000  0.01\n",
      "After    113984  230000 49.56\n"
     ]
    }
   ],
   "source": [
    "_ = transform.summary"
   ]
  },
  {
   "cell_type": "markdown",
   "metadata": {},
   "source": [
    "Replacing the missing value indicators with NaNs will simplify data processing and analysis. It does reveal; however, signficant data sparsity. Notably, diversity and sparsity in observations are common challenges in marketing and customer analytics. \n",
    "\n",
    "Lastly, we have the load step."
   ]
  },
  {
   "cell_type": "code",
   "execution_count": 12,
   "metadata": {},
   "outputs": [
    {
     "name": "stdout",
     "output_type": "stream",
     "text": [
      "\n",
      "\n",
      "                            LoadDataset Task Summary                            \n",
      "                       Dataset: Etl / Preprocessed Stage                        \n",
      "                       _________________________________                        \n",
      "                            AID : trieste_dataset_preprocessed_criteo_v_002\n",
      "                      Workspace : Trieste\n",
      "                   Dataset Name : criteo\n",
      "                          Stage : preprocessed\n",
      "                       filepath : workspaces\\Trieste\\dataset\\preprocessed\\trieste_dataset_preprocessed_criteo_v_002.pkl\n",
      "                          Start : 2022-01-31 11:24:59.825246\n",
      "                            End : 2022-01-31 11:24:59.915289\n",
      "                       Duration : 0:00:00.090043\n",
      "                         Status : 200: OK\n",
      "                    Status Date : 2022-01-31\n",
      "                    Status Time : 11:24:59\n"
     ]
    }
   ],
   "source": [
    "_ = load.summary"
   ]
  },
  {
   "cell_type": "markdown",
   "metadata": {},
   "source": [
    "We'll note the name and stage for this dataset, which we will use to obtain the Dataset object from the workspace. Before closing this section, we'll demonstrate how an object can be stored and retrieved from our current workspace, 'vesuvio'."
   ]
  },
  {
   "cell_type": "code",
   "execution_count": 13,
   "metadata": {},
   "outputs": [
    {
     "name": "stdout",
     "output_type": "stream",
     "text": [
      "\n",
      "\n",
      "                                 Dataset criteo                                 \n",
      "                                 ______________                                 \n",
      "<class 'pandas.core.frame.DataFrame'>\n",
      "RangeIndex: 10000 entries, 0 to 9999\n",
      "Data columns (total 23 columns):\n",
      " #   Column                 Non-Null Count  Dtype   \n",
      "---  ------                 --------------  -----   \n",
      " 0   sale                   10000 non-null  category\n",
      " 1   sales_amount           1612 non-null   float64 \n",
      " 2   conversion_time_delay  1608 non-null   float64 \n",
      " 3   click_ts               10000 non-null  float64 \n",
      " 4   n_clicks_1week         4700 non-null   float64 \n",
      " 5   product_price          10000 non-null  float64 \n",
      " 6   product_age_group      1815 non-null   category\n",
      " 7   device_type            9991 non-null   category\n",
      " 8   audience_id            2809 non-null   category\n",
      " 9   product_gender         1794 non-null   category\n",
      " 10  product_brand          2748 non-null   category\n",
      " 11  product_category_1     4786 non-null   category\n",
      " 12  product_category_2     4781 non-null   category\n",
      " 13  product_category_3     4290 non-null   category\n",
      " 14  product_category_4     2529 non-null   category\n",
      " 15  product_category_5     801 non-null    category\n",
      " 16  product_category_6     79 non-null     category\n",
      " 17  product_category_7     1 non-null      category\n",
      " 18  product_country        8457 non-null   category\n",
      " 19  product_id             8457 non-null   category\n",
      " 20  product_title          4758 non-null   object  \n",
      " 21  partner_id             10000 non-null  category\n",
      " 22  user_id                10000 non-null  category\n",
      "dtypes: category(17), float64(5), object(1)\n",
      "memory usage: 858.9+ KB\n"
     ]
    }
   ],
   "source": [
    "dataset = workspace.get_dataset(name='criteo', stage='preprocessed', version=2)\n",
    "dataset.info()"
   ]
  },
  {
   "cell_type": "markdown",
   "metadata": {},
   "source": [
    "Viola! This closes the data acquisition portion of this series. In the next section, we will get our first glimpses of the data from a profiling and data quality perspective."
   ]
  }
 ],
 "metadata": {
  "interpreter": {
   "hash": "ba6615e5a7b7e3657be37061ca9c48b0632f150281e10ebc62a462ee17016418"
  },
  "kernelspec": {
   "display_name": "Python 3.7.12 64-bit ('cvr': conda)",
   "language": "python",
   "name": "python3"
  },
  "language_info": {
   "codemirror_mode": {
    "name": "ipython",
    "version": 3
   },
   "file_extension": ".py",
   "mimetype": "text/x-python",
   "name": "python",
   "nbconvert_exporter": "python",
   "pygments_lexer": "ipython3",
   "version": "3.7.12"
  }
 },
 "nbformat": 4,
 "nbformat_minor": 2
}
