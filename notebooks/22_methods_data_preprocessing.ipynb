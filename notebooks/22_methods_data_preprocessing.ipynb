{
 "cells": [
  {
   "cell_type": "markdown",
   "metadata": {},
   "source": [
    "# Data Preprocessing\n",
    "Before engaging in exploratory data analysis, there are a few apriori preprocessing steps to be taken which will facilitate the profiling and analysis effort. \n",
    "\n",
    "Missing values are encoded as '-1' in the dataset. Our in-memory data analysis framework handles missing values quite facily as non-numbers or NaNs. Our first preprocessing step will be to convert the '-1' values to NaN values. Second, add column names, and convert the data types for the object data types to pandas category data types. This will bring some computational efficiency that will be well placed for a file of this size. We'll convert the target variable, 'sale' from a numeric to a binary categorical variable and lastly, convert the separator from the tab to comma.\n",
    "\n",
    "Again, we will create hasty data pipeline to handle these changes for us. "
   ]
  },
  {
   "cell_type": "code",
   "execution_count": 17,
   "metadata": {},
   "outputs": [],
   "source": [
    "# IMPORTS\n",
    "from myst_nb import glue\n",
    "import pandas as pd\n",
    "pd.options.display.float_format = '{:,.2f}'.format\n",
    "pd.set_option('display.width', 1000)\n",
    "\n",
    "from cvr.core.atelier import AtelierFabrique, Atelier\n",
    "from cvr.core.dataset import Dataset, DatasetReader, DatasetWriter\n",
    "from cvr.core.pipeline import DataPipeline, DataPipelineBuilder\n"
   ]
  },
  {
   "cell_type": "markdown",
   "metadata": {},
   "source": [
    "## Data Preprocessing\n",
    "Let's instantiate the studio containing our data."
   ]
  },
  {
   "cell_type": "code",
   "execution_count": 19,
   "metadata": {},
   "outputs": [],
   "source": [
    "studio = Atelier(name='incept')\n",
    "dataset = studio.get_asset_by_aid(aid='0003')"
   ]
  },
  {
   "cell_type": "markdown",
   "metadata": {},
   "source": [
    "The dataset created during the acquistion step was the second version of the Dataset object 'criteo' for the preprocessed stage."
   ]
  },
  {
   "cell_type": "code",
   "execution_count": 20,
   "metadata": {},
   "outputs": [
    {
     "data": {
      "text/html": [
       "<div>\n",
       "<style scoped>\n",
       "    .dataframe tbody tr th:only-of-type {\n",
       "        vertical-align: middle;\n",
       "    }\n",
       "\n",
       "    .dataframe tbody tr th {\n",
       "        vertical-align: top;\n",
       "    }\n",
       "\n",
       "    .dataframe thead th {\n",
       "        text-align: right;\n",
       "    }\n",
       "</style>\n",
       "<table border=\"1\" class=\"dataframe\">\n",
       "  <thead>\n",
       "    <tr style=\"text-align: right;\">\n",
       "      <th></th>\n",
       "      <th>Data Type</th>\n",
       "      <th>Count</th>\n",
       "      <th>Missing</th>\n",
       "      <th>% Missing</th>\n",
       "      <th>Unique</th>\n",
       "      <th>% Unique</th>\n",
       "      <th>Memory Usage</th>\n",
       "    </tr>\n",
       "  </thead>\n",
       "  <tbody>\n",
       "    <tr>\n",
       "      <th>0</th>\n",
       "      <td>int64</td>\n",
       "      <td>15995633</td>\n",
       "      <td>0</td>\n",
       "      <td>0.00</td>\n",
       "      <td>2</td>\n",
       "      <td>0.00</td>\n",
       "      <td>127965064</td>\n",
       "    </tr>\n",
       "    <tr>\n",
       "      <th>-1</th>\n",
       "      <td>float64</td>\n",
       "      <td>15995633</td>\n",
       "      <td>0</td>\n",
       "      <td>0.00</td>\n",
       "      <td>513407</td>\n",
       "      <td>3.21</td>\n",
       "      <td>127965064</td>\n",
       "    </tr>\n",
       "    <tr>\n",
       "      <th>-1.1</th>\n",
       "      <td>int64</td>\n",
       "      <td>15995633</td>\n",
       "      <td>0</td>\n",
       "      <td>0.00</td>\n",
       "      <td>574348</td>\n",
       "      <td>3.59</td>\n",
       "      <td>127965064</td>\n",
       "    </tr>\n",
       "    <tr>\n",
       "      <th>1598891820</th>\n",
       "      <td>int64</td>\n",
       "      <td>15995633</td>\n",
       "      <td>0</td>\n",
       "      <td>0.00</td>\n",
       "      <td>6456933</td>\n",
       "      <td>40.37</td>\n",
       "      <td>127965064</td>\n",
       "    </tr>\n",
       "    <tr>\n",
       "      <th>-1.2</th>\n",
       "      <td>int64</td>\n",
       "      <td>15995633</td>\n",
       "      <td>0</td>\n",
       "      <td>0.00</td>\n",
       "      <td>4614</td>\n",
       "      <td>0.03</td>\n",
       "      <td>127965064</td>\n",
       "    </tr>\n",
       "    <tr>\n",
       "      <th>0.0</th>\n",
       "      <td>float64</td>\n",
       "      <td>15995633</td>\n",
       "      <td>0</td>\n",
       "      <td>0.00</td>\n",
       "      <td>43143</td>\n",
       "      <td>0.27</td>\n",
       "      <td>127965064</td>\n",
       "    </tr>\n",
       "    <tr>\n",
       "      <th>-1.3</th>\n",
       "      <td>object</td>\n",
       "      <td>15995633</td>\n",
       "      <td>0</td>\n",
       "      <td>0.00</td>\n",
       "      <td>12</td>\n",
       "      <td>0.00</td>\n",
       "      <td>1070809627</td>\n",
       "    </tr>\n",
       "    <tr>\n",
       "      <th>7E56C27BFF0305E788DA55A029EC4988</th>\n",
       "      <td>object</td>\n",
       "      <td>15995633</td>\n",
       "      <td>0</td>\n",
       "      <td>0.00</td>\n",
       "      <td>9</td>\n",
       "      <td>0.00</td>\n",
       "      <td>1423520377</td>\n",
       "    </tr>\n",
       "    <tr>\n",
       "      <th>-1.4</th>\n",
       "      <td>object</td>\n",
       "      <td>15995633</td>\n",
       "      <td>0</td>\n",
       "      <td>0.00</td>\n",
       "      <td>18229</td>\n",
       "      <td>0.11</td>\n",
       "      <td>1078550827</td>\n",
       "    </tr>\n",
       "    <tr>\n",
       "      <th>-1.5</th>\n",
       "      <td>object</td>\n",
       "      <td>15995633</td>\n",
       "      <td>0</td>\n",
       "      <td>0.00</td>\n",
       "      <td>18</td>\n",
       "      <td>0.00</td>\n",
       "      <td>1073985517</td>\n",
       "    </tr>\n",
       "    <tr>\n",
       "      <th>-1.6</th>\n",
       "      <td>object</td>\n",
       "      <td>15995633</td>\n",
       "      <td>0</td>\n",
       "      <td>0.00</td>\n",
       "      <td>55984</td>\n",
       "      <td>0.35</td>\n",
       "      <td>1206364567</td>\n",
       "    </tr>\n",
       "    <tr>\n",
       "      <th>-1.7</th>\n",
       "      <td>object</td>\n",
       "      <td>15995633</td>\n",
       "      <td>0</td>\n",
       "      <td>0.00</td>\n",
       "      <td>22</td>\n",
       "      <td>0.00</td>\n",
       "      <td>1239328687</td>\n",
       "    </tr>\n",
       "    <tr>\n",
       "      <th>-1.8</th>\n",
       "      <td>object</td>\n",
       "      <td>15995633</td>\n",
       "      <td>0</td>\n",
       "      <td>0.00</td>\n",
       "      <td>174</td>\n",
       "      <td>0.00</td>\n",
       "      <td>1239073897</td>\n",
       "    </tr>\n",
       "    <tr>\n",
       "      <th>-1.9</th>\n",
       "      <td>object</td>\n",
       "      <td>15995633</td>\n",
       "      <td>0</td>\n",
       "      <td>0.00</td>\n",
       "      <td>1038</td>\n",
       "      <td>0.01</td>\n",
       "      <td>1203331087</td>\n",
       "    </tr>\n",
       "    <tr>\n",
       "      <th>-1.10</th>\n",
       "      <td>object</td>\n",
       "      <td>15995633</td>\n",
       "      <td>0</td>\n",
       "      <td>0.00</td>\n",
       "      <td>1553</td>\n",
       "      <td>0.01</td>\n",
       "      <td>1108782127</td>\n",
       "    </tr>\n",
       "    <tr>\n",
       "      <th>-1.11</th>\n",
       "      <td>object</td>\n",
       "      <td>15995633</td>\n",
       "      <td>0</td>\n",
       "      <td>0.00</td>\n",
       "      <td>842</td>\n",
       "      <td>0.01</td>\n",
       "      <td>985759747</td>\n",
       "    </tr>\n",
       "    <tr>\n",
       "      <th>-1.12</th>\n",
       "      <td>object</td>\n",
       "      <td>15995633</td>\n",
       "      <td>0</td>\n",
       "      <td>0.00</td>\n",
       "      <td>214</td>\n",
       "      <td>0.00</td>\n",
       "      <td>952096867</td>\n",
       "    </tr>\n",
       "    <tr>\n",
       "      <th>-1.13</th>\n",
       "      <td>object</td>\n",
       "      <td>15995633</td>\n",
       "      <td>0</td>\n",
       "      <td>0.00</td>\n",
       "      <td>6</td>\n",
       "      <td>0.00</td>\n",
       "      <td>943748947</td>\n",
       "    </tr>\n",
       "    <tr>\n",
       "      <th>57A1D462A03BD076E029CF9310C11FC5</th>\n",
       "      <td>object</td>\n",
       "      <td>15995633</td>\n",
       "      <td>0</td>\n",
       "      <td>0.00</td>\n",
       "      <td>24</td>\n",
       "      <td>0.00</td>\n",
       "      <td>1308567277</td>\n",
       "    </tr>\n",
       "    <tr>\n",
       "      <th>A66DB02AC1726A8D79C518B7F7AB79F0</th>\n",
       "      <td>object</td>\n",
       "      <td>15995633</td>\n",
       "      <td>0</td>\n",
       "      <td>0.00</td>\n",
       "      <td>1628065</td>\n",
       "      <td>10.18</td>\n",
       "      <td>1308761197</td>\n",
       "    </tr>\n",
       "    <tr>\n",
       "      <th>-1.14</th>\n",
       "      <td>object</td>\n",
       "      <td>15930216</td>\n",
       "      <td>65417</td>\n",
       "      <td>0.41</td>\n",
       "      <td>790522</td>\n",
       "      <td>4.96</td>\n",
       "      <td>2229045187</td>\n",
       "    </tr>\n",
       "    <tr>\n",
       "      <th>E3DDEB04F8AFF944B11943BB57D2F620</th>\n",
       "      <td>object</td>\n",
       "      <td>15995633</td>\n",
       "      <td>0</td>\n",
       "      <td>0.00</td>\n",
       "      <td>312</td>\n",
       "      <td>0.00</td>\n",
       "      <td>1423611337</td>\n",
       "    </tr>\n",
       "    <tr>\n",
       "      <th>493CFB4A87C50804C94C0CF76ABD19CD</th>\n",
       "      <td>object</td>\n",
       "      <td>15995633</td>\n",
       "      <td>0</td>\n",
       "      <td>0.00</td>\n",
       "      <td>13708489</td>\n",
       "      <td>85.70</td>\n",
       "      <td>1423611337</td>\n",
       "    </tr>\n",
       "  </tbody>\n",
       "</table>\n",
       "</div>"
      ],
      "text/plain": [
       "                                 Data Type     Count  ...  % Unique  Memory Usage\n",
       "0                                    int64  15995633  ...      0.00     127965064\n",
       "-1                                 float64  15995633  ...      3.21     127965064\n",
       "-1.1                                 int64  15995633  ...      3.59     127965064\n",
       "1598891820                           int64  15995633  ...     40.37     127965064\n",
       "-1.2                                 int64  15995633  ...      0.03     127965064\n",
       "0.0                                float64  15995633  ...      0.27     127965064\n",
       "-1.3                                object  15995633  ...      0.00    1070809627\n",
       "7E56C27BFF0305E788DA55A029EC4988    object  15995633  ...      0.00    1423520377\n",
       "-1.4                                object  15995633  ...      0.11    1078550827\n",
       "-1.5                                object  15995633  ...      0.00    1073985517\n",
       "-1.6                                object  15995633  ...      0.35    1206364567\n",
       "-1.7                                object  15995633  ...      0.00    1239328687\n",
       "-1.8                                object  15995633  ...      0.00    1239073897\n",
       "-1.9                                object  15995633  ...      0.01    1203331087\n",
       "-1.10                               object  15995633  ...      0.01    1108782127\n",
       "-1.11                               object  15995633  ...      0.01     985759747\n",
       "-1.12                               object  15995633  ...      0.00     952096867\n",
       "-1.13                               object  15995633  ...      0.00     943748947\n",
       "57A1D462A03BD076E029CF9310C11FC5    object  15995633  ...      0.00    1308567277\n",
       "A66DB02AC1726A8D79C518B7F7AB79F0    object  15995633  ...     10.18    1308761197\n",
       "-1.14                               object  15930216  ...      4.96    2229045187\n",
       "E3DDEB04F8AFF944B11943BB57D2F620    object  15995633  ...      0.00    1423611337\n",
       "493CFB4A87C50804C94C0CF76ABD19CD    object  15995633  ...     85.70    1423611337\n",
       "\n",
       "[23 rows x 7 columns]"
      ]
     },
     "execution_count": 20,
     "metadata": {},
     "output_type": "execute_result"
    }
   ],
   "source": [
    "dataset.info"
   ]
  },
  {
   "cell_type": "markdown",
   "metadata": {},
   "source": [
    "## Dataset Overview\n",
    "### Dataset Summary Statistics"
   ]
  },
  {
   "cell_type": "code",
   "execution_count": 21,
   "metadata": {},
   "outputs": [
    {
     "name": "stdout",
     "output_type": "stream",
     "text": [
      "\n",
      "\n",
      "                                 Asset Passport                                 \n",
      "      Create Dataset Object From Criteo Labs Conversion Logs Dataset (Raw)      \n",
      "      ____________________________________________________________________      \n",
      "                              aid : 0003\n",
      "                       asset_type : dataset\n",
      "                             name : criteo\n",
      "                      description : Create Dataset object from Criteo Labs Conversion Logs Dataset (Raw)\n",
      "                            stage : raw\n",
      "                          version : 0\n",
      "                         filepath : ateliers\\incept\\raw_dataset_criteo_v000.pkl\n"
     ]
    },
    {
     "ename": "AttributeError",
     "evalue": "'AssetPassport' object has no attribute 'stamps'",
     "output_type": "error",
     "traceback": [
      "\u001b[1;31m---------------------------------------------------------------------------\u001b[0m",
      "\u001b[1;31mAttributeError\u001b[0m                            Traceback (most recent call last)",
      "\u001b[1;32m~\\AppData\\Local\\Temp\\ipykernel_17276\\4164989168.py\u001b[0m in \u001b[0;36m<module>\u001b[1;34m\u001b[0m\n\u001b[1;32m----> 1\u001b[1;33m \u001b[0mdataset\u001b[0m\u001b[1;33m.\u001b[0m\u001b[0mpassport\u001b[0m\u001b[1;33m.\u001b[0m\u001b[0mprint\u001b[0m\u001b[1;33m(\u001b[0m\u001b[1;33m)\u001b[0m\u001b[1;33m\u001b[0m\u001b[1;33m\u001b[0m\u001b[0m\n\u001b[0m",
      "\u001b[1;32mc:\\Users\\John\\Documents\\Data Science\\Projects\\cvr\\cvr\\core\\asset.py\u001b[0m in \u001b[0;36mprint\u001b[1;34m(self)\u001b[0m\n\u001b[0;32m    106\u001b[0m         \u001b[0mself\u001b[0m\u001b[1;33m.\u001b[0m\u001b[0m_printer\u001b[0m\u001b[1;33m.\u001b[0m\u001b[0mprint_title\u001b[0m\u001b[1;33m(\u001b[0m\u001b[1;34m\"Asset Passport\"\u001b[0m\u001b[1;33m,\u001b[0m \u001b[0mtitlelize\u001b[0m\u001b[1;33m(\u001b[0m\u001b[0mself\u001b[0m\u001b[1;33m.\u001b[0m\u001b[0mdescription\u001b[0m\u001b[1;33m)\u001b[0m\u001b[1;33m)\u001b[0m\u001b[1;33m\u001b[0m\u001b[1;33m\u001b[0m\u001b[0m\n\u001b[0;32m    107\u001b[0m         \u001b[0mself\u001b[0m\u001b[1;33m.\u001b[0m\u001b[0m_printer\u001b[0m\u001b[1;33m.\u001b[0m\u001b[0mprint_dictionary\u001b[0m\u001b[1;33m(\u001b[0m\u001b[0md\u001b[0m\u001b[1;33m)\u001b[0m\u001b[1;33m\u001b[0m\u001b[1;33m\u001b[0m\u001b[0m\n\u001b[1;32m--> 108\u001b[1;33m         \u001b[1;32mif\u001b[0m \u001b[0mlen\u001b[0m\u001b[1;33m(\u001b[0m\u001b[0mself\u001b[0m\u001b[1;33m.\u001b[0m\u001b[0mstamps\u001b[0m\u001b[1;33m)\u001b[0m \u001b[1;33m>\u001b[0m \u001b[1;36m0\u001b[0m\u001b[1;33m:\u001b[0m\u001b[1;33m\u001b[0m\u001b[1;33m\u001b[0m\u001b[0m\n\u001b[0m\u001b[0;32m    109\u001b[0m             \u001b[1;32mfor\u001b[0m \u001b[0mstamp\u001b[0m \u001b[1;32min\u001b[0m \u001b[0mself\u001b[0m\u001b[1;33m.\u001b[0m\u001b[0mstamps\u001b[0m\u001b[1;33m.\u001b[0m\u001b[0mitems\u001b[0m\u001b[1;33m(\u001b[0m\u001b[1;33m)\u001b[0m\u001b[1;33m:\u001b[0m\u001b[1;33m\u001b[0m\u001b[1;33m\u001b[0m\u001b[0m\n\u001b[0;32m    110\u001b[0m                 \u001b[0mself\u001b[0m\u001b[1;33m.\u001b[0m\u001b[0m_printer\u001b[0m\u001b[1;33m.\u001b[0m\u001b[0mprint_dictionary\u001b[0m\u001b[1;33m(\u001b[0m\u001b[0mstamp\u001b[0m\u001b[1;33m)\u001b[0m\u001b[1;33m\u001b[0m\u001b[1;33m\u001b[0m\u001b[0m\n",
      "\u001b[1;31mAttributeError\u001b[0m: 'AssetPassport' object has no attribute 'stamps'"
     ]
    }
   ],
   "source": [
    "dataset.passport.print()"
   ]
  },
  {
   "cell_type": "code",
   "execution_count": 5,
   "metadata": {},
   "outputs": [
    {
     "data": {
      "application/papermill.record/text/plain": "10000"
     },
     "metadata": {
      "scrapbook": {
       "mime_prefix": "application/papermill.record/",
       "name": "profile_rows"
      }
     },
     "output_type": "display_data"
    },
    {
     "data": {
      "application/papermill.record/text/plain": "23"
     },
     "metadata": {
      "scrapbook": {
       "mime_prefix": "application/papermill.record/",
       "name": "profile_columns"
      }
     },
     "output_type": "display_data"
    },
    {
     "data": {
      "application/papermill.record/text/plain": "49.56"
     },
     "metadata": {
      "scrapbook": {
       "mime_prefix": "application/papermill.record/",
       "name": "profile_missing"
      }
     },
     "output_type": "display_data"
    },
    {
     "data": {
      "application/papermill.record/text/plain": "3.94"
     },
     "metadata": {
      "scrapbook": {
       "mime_prefix": "application/papermill.record/",
       "name": "profile_size"
      }
     },
     "output_type": "display_data"
    },
    {
     "data": {
      "application/papermill.record/text/plain": "0"
     },
     "metadata": {
      "scrapbook": {
       "mime_prefix": "application/papermill.record/",
       "name": "profile_dups"
      }
     },
     "output_type": "display_data"
    },
    {
     "data": {
      "application/papermill.record/text/plain": "0.0"
     },
     "metadata": {
      "scrapbook": {
       "mime_prefix": "application/papermill.record/",
       "name": "profile_dup_pct"
      }
     },
     "output_type": "display_data"
    }
   ],
   "source": [
    "# GLUE\n",
    "_ = glue(\"profile_rows\",summary[\"Rows\"], display=False)\n",
    "_ = glue(\"profile_columns\", summary[\"Columns\"], display=False)\n",
    "_ = glue(\"profile_missing\", summary[\"Missing Cells %\"], display=False)\n",
    "_ = glue(\"profile_size\", summary[\"Size (Mb)\"], display=False)\n",
    "_ = glue(\"profile_dups\", summary[\"Duplicate Rows\"], display=False)\n",
    "_ = glue(\"profile_dup_pct\", summary[\"Duplicate Rows %\"], display=False)"
   ]
  },
  {
   "cell_type": "markdown",
   "metadata": {},
   "source": [
    "This dataset contains some {glue:}`profile_rows` observations, each with {glue:}`profile_columns` columns for a size of {glue:}`profile_size` Mb.  Approximately {glue:}`profile_missing`% of the data are missing, reflecting the sparsity challenge of user behavior logs. Further, we have about {glue:}`profile_dups` duplicate rows, just {glue:}`profile_dup_pct`% of the sample; nonetheless, duplicates must be removed prior to modeling.\n",
    "\n",
    "### Dataset Columns and Datatypes"
   ]
  },
  {
   "cell_type": "code",
   "execution_count": 6,
   "metadata": {},
   "outputs": [
    {
     "name": "stdout",
     "output_type": "stream",
     "text": [
      "\n",
      "\n",
      "                                   Data Types                                   \n",
      "                                   __________                                   \n",
      "                               category : 17\n",
      "                                float64 : 5\n",
      "                                 object : 1\n"
     ]
    }
   ],
   "source": [
    "_ = dataset.profile.datatypes"
   ]
  },
  {
   "cell_type": "markdown",
   "metadata": {},
   "source": [
    "There 17 categorical, 5 numeric variables and a single object variable, 'product_title', which we will treat as a string.\n"
   ]
  },
  {
   "cell_type": "code",
   "execution_count": 7,
   "metadata": {},
   "outputs": [
    {
     "name": "stdout",
     "output_type": "stream",
     "text": [
      "\n",
      "\n",
      "                                 Dataset criteo                                 \n",
      "                                 ______________                                 \n",
      "<class 'pandas.core.frame.DataFrame'>\n",
      "RangeIndex: 10000 entries, 0 to 9999\n",
      "Data columns (total 23 columns):\n",
      " #   Column                 Non-Null Count  Dtype   \n",
      "---  ------                 --------------  -----   \n",
      " 0   sale                   10000 non-null  category\n",
      " 1   sales_amount           1612 non-null   float64 \n",
      " 2   conversion_time_delay  1608 non-null   float64 \n",
      " 3   click_ts               10000 non-null  float64 \n",
      " 4   n_clicks_1week         4700 non-null   float64 \n",
      " 5   product_price          10000 non-null  float64 \n",
      " 6   product_age_group      1815 non-null   category\n",
      " 7   device_type            9991 non-null   category\n",
      " 8   audience_id            2809 non-null   category\n",
      " 9   product_gender         1794 non-null   category\n",
      " 10  product_brand          2748 non-null   category\n",
      " 11  product_category_1     4786 non-null   category\n",
      " 12  product_category_2     4781 non-null   category\n",
      " 13  product_category_3     4290 non-null   category\n",
      " 14  product_category_4     2529 non-null   category\n",
      " 15  product_category_5     801 non-null    category\n",
      " 16  product_category_6     79 non-null     category\n",
      " 17  product_category_7     1 non-null      category\n",
      " 18  product_country        8457 non-null   category\n",
      " 19  product_id             8457 non-null   category\n",
      " 20  product_title          4758 non-null   object  \n",
      " 21  partner_id             10000 non-null  category\n",
      " 22  user_id                10000 non-null  category\n",
      "dtypes: category(17), float64(5), object(1)\n",
      "memory usage: 1.4+ MB\n"
     ]
    }
   ],
   "source": [
    "_ = dataset.info()"
   ]
  },
  {
   "cell_type": "markdown",
   "metadata": {},
   "source": [
    "The non-null counts above hint at the varying degrees of data sparsity among the columns of the dataset. Let's take a coler look.\n",
    "### Missing Values Analysis"
   ]
  },
  {
   "cell_type": "code",
   "execution_count": 8,
   "metadata": {},
   "outputs": [
    {
     "name": "stdout",
     "output_type": "stream",
     "text": [
      "\n",
      "\n",
      "                            Missing Values Analysis                             \n",
      "                              Criteo Preprocessed                               \n",
      "                            _______________________                             \n",
      "\n",
      "\n",
      "                                    Summary                                     \n",
      "                                    _______                                     \n",
      "                                      n : 10,000\n",
      "                                columns : 23\n",
      "                                  cells : 230,000\n",
      "                                Missing : 113,984\n",
      "                            Missingness : 49.56\n",
      "\n",
      "\n",
      "\n",
      "\n",
      "                           Missing Analysis by Column                           \n",
      "                           __________________________                           \n",
      "                           n  Missing  Missingness\n",
      "sale                   10000        0         0.00\n",
      "sales_amount           10000     8388        83.88\n",
      "conversion_time_delay  10000     8392        83.92\n",
      "click_ts               10000        0         0.00\n",
      "n_clicks_1week         10000     5300        53.00\n",
      "product_price          10000        0         0.00\n",
      "product_age_group      10000     8185        81.85\n",
      "device_type            10000        9         0.09\n",
      "audience_id            10000     7191        71.91\n",
      "product_gender         10000     8206        82.06\n",
      "product_brand          10000     7252        72.52\n",
      "product_category_1     10000     5214        52.14\n",
      "product_category_2     10000     5219        52.19\n",
      "product_category_3     10000     5710        57.10\n",
      "product_category_4     10000     7471        74.71\n",
      "product_category_5     10000     9199        91.99\n",
      "product_category_6     10000     9921        99.21\n",
      "product_category_7     10000     9999        99.99\n",
      "product_country        10000     1543        15.43\n",
      "product_id             10000     1543        15.43\n",
      "product_title          10000     5242        52.42\n",
      "partner_id             10000        0         0.00\n",
      "user_id                10000        0         0.00\n"
     ]
    }
   ],
   "source": [
    "_ = dataset.profile.missing"
   ]
  },
  {
   "cell_type": "markdown",
   "metadata": {},
   "source": [
    "Here, we get a better sense of the scope and location of our data sparsity challenge. Nearly half of the data are absent; although, we may assume that some proportion of the missing data is not missing at random (MAR). Products defined by fewer than seven categories, sales_amounts for which no conversion takes place, or items for which no age group is defined reflect missingness in the data that may be explained. On the other hand, we have no statistically valid methods of verifying the extent to which any data are missing at random or missing completely at random.\n",
    "\n",
    "Data sparsity and diversity are characteristics of user behavior data. Statistical and modeling techniques must therefore be robust to missingness in the data.\n",
    "\n",
    "### Cardinality Analysis\n",
    "With user behavior and conversion log data, we expect high cardinality among users and lower cardinality among the items."
   ]
  },
  {
   "cell_type": "code",
   "execution_count": 9,
   "metadata": {},
   "outputs": [
    {
     "name": "stdout",
     "output_type": "stream",
     "text": [
      "\n",
      "\n",
      "                              Cardinality Analysis                              \n",
      "                              Criteo Preprocessed                               \n",
      "                              ____________________                              \n",
      "                   Column  Unique  Total  Pct Unique\n",
      "0                    sale       2  10000        0.02\n",
      "1            sales_amount    1288   1612       79.90\n",
      "2   conversion_time_delay    1484   1608       92.29\n",
      "3                click_ts    9578  10000       95.78\n",
      "4          n_clicks_1week     529   4700       11.26\n",
      "5           product_price     983  10000        9.83\n",
      "6       product_age_group       8   1815        0.44\n",
      "7             device_type       3   9991        0.03\n",
      "8             audience_id     583   2809       20.75\n",
      "9          product_gender       7   1794        0.39\n",
      "10          product_brand     997   2748       36.28\n",
      "11     product_category_1      19   4786        0.40\n",
      "12     product_category_2     115   4781        2.41\n",
      "13     product_category_3     397   4290        9.25\n",
      "14     product_category_4     425   2529       16.81\n",
      "15     product_category_5     206    801       25.72\n",
      "16     product_category_6      29     79       36.71\n",
      "17     product_category_7       1      1      100.00\n",
      "18        product_country      13   8457        0.15\n",
      "19             product_id    7084   8457       83.76\n",
      "20          product_title    3775   4758       79.34\n",
      "21             partner_id      95  10000        0.95\n",
      "22                user_id    9942  10000       99.42\n"
     ]
    }
   ],
   "source": [
    "_ = dataset.profile.cardinality"
   ]
  },
  {
   "cell_type": "markdown",
   "metadata": {},
   "source": [
    "As expected, high cardinality among users and very low cardinality among products, and their categories. However, converting variables with 56,000 unique categories into binary vector representations increases the complexity of the learning problem and comes at a computational cost. The high cardinality variables will require scalable encoding techniques that retain the patterns, shapes, and distances of and within the data.\n",
    "\n",
    "So far, we might characterize the dataset as relatively sparse, with pockets of extremely high cardinality as evidenced by the following descriptive statistics on the categorical frequency distribution."
   ]
  },
  {
   "cell_type": "code",
   "execution_count": 10,
   "metadata": {},
   "outputs": [
    {
     "name": "stdout",
     "output_type": "stream",
     "text": [
      "\n",
      "\n",
      "                        Categorical Frequency Statistics                        \n",
      "                              Criteo Preprocessed                               \n",
      "                        ________________________________                        \n",
      "   count     mean      std  min  25%    50%    75%      max\n",
      "0  18.00 1,316.72 2,805.54 1.00 9.25 105.00 543.50 9,942.00\n"
     ]
    }
   ],
   "source": [
    "_ = dataset.profile.frequency_stats"
   ]
  },
  {
   "cell_type": "markdown",
   "metadata": {},
   "source": [
    "These data show that, on average, our 18 categorical variables have over 900,000 unique values. Some of the extremes have between 15,000 and upwards of 14M categorical levels. Yet, as Vilfredo Pareto, George Zipf, and others have pointed out, it is often the case that a large proportion of wealth, language, and data are represented by a relatively limited percentage of people, words, and dimensions. \n",
    "\n",
    "Zipf's law, originally formulated to explain statistical distributions observed in quantitative linguistics, states that, given any large natural language corpus, we can predict the frequency of any word as the inverse of its rank in a frequency table. That is, the most frequent word occurs approximately twice as often as the second most frequent word, and three times as frequent as the third-ranked word, etc... The Brown Corpus of American English text contains 500 samples of English, totaling approximately one million words. True to Zipf's law, only 135 vocabulary words are needed to account for half of the Brown Corpus. \n",
    "\n",
    "Next, we will explore this phenomenon for our qualitative features to ascertain whether Zipf's law is observed by plotting the log rank and log frequencies. A distribution is said to be Zipfian to the extent the Zipf's plot is linear.\n"
   ]
  },
  {
   "cell_type": "markdown",
   "metadata": {},
   "source": [
    "## Qualitative Variable Analysis\n",
    "Of the qualitative variables, user_id is a special case in terms of its cardinality: our dataset of 16 million observations contains some 14 million unique users, presenting a cardinality of 85%. Having no missing values, user_id is exceptio probat regulam. \n",
    "\n",
    "The remanent variables, grouped in terms of cardinality and data sparsity, will be the focus of our univariate qualitative variable assessment.\n",
    "\n",
    "Group 1: Extreme Cardinality:\n",
    "| Name          | Unique   | Total    | Uniqueness |\n",
    "|---------------|----------|----------|------------|\n",
    "| product_id    | 1628064  | 12167296 | 13.38      |\n",
    "| product_title | 790521   | 9787460  | 8.08       |\n",
    "| product_brand | 55983    | 8754074  | 0.64       |\n",
    "| audience_id   | 18228    | 4493616  | 0.41       |\n",
    "\n",
    "Group 2: High Cardinality Low Missingness\n",
    "| Name               | Unique | Total    | Uniqueness  |\n",
    "|--------------------|--------|----------|-------------|\n",
    "| partner_id         | 312    | 15995634 | 0           |\n",
    "| product_category_2 | 173    | 9844385  | 0           |\n",
    "| product_category_3 | 1037   | 8652958  | 0.01        |\n",
    "| product_category_4 | 1552   | 5501326  | 0.03        |\n",
    "| product_category_5 | 841    | 1400580  | 0.06        |\n",
    "| product_category_6 | 213    | 278484   | 0.08        |\n",
    "\n",
    "Group 3: Low Cardinality\n",
    "\n",
    "| Name               | Unique | Total    | Uniqueness |\n",
    "|--------------------|--------|----------|------------|\n",
    "| device_type        | 8      | 15992602 | 0          |\n",
    "| product_age_group  | 11     | 4235576  | 0          |\n",
    "| product_category_1 | 21     | 9852878  | 0          |\n",
    "| product_category_7 | 5      | 220      | 2.27       |\n",
    "| product_country    | 23     | 12160832 | 0          |\n",
    "| product_gender     | 17     | 4341439  | 0          |\n",
    "| sale               | 2      | 15995634 | 0          |\n",
    "\n"
   ]
  },
  {
   "cell_type": "markdown",
   "metadata": {},
   "source": [
    "### Product Id\n",
    "The Criteo data contains some 14M unique users representing a uniqueness of over 85%.  for the 90 days for which these data were extracted, containing some 14M individual users representing a uniqueness of 86%."
   ]
  },
  {
   "cell_type": "code",
   "execution_count": 11,
   "metadata": {},
   "outputs": [
    {
     "data": {
      "text/html": [
       "<div>\n",
       "<style scoped>\n",
       "    .dataframe tbody tr th:only-of-type {\n",
       "        vertical-align: middle;\n",
       "    }\n",
       "\n",
       "    .dataframe tbody tr th {\n",
       "        vertical-align: top;\n",
       "    }\n",
       "\n",
       "    .dataframe thead th {\n",
       "        text-align: right;\n",
       "    }\n",
       "</style>\n",
       "<table border=\"1\" class=\"dataframe\">\n",
       "  <thead>\n",
       "    <tr style=\"text-align: right;\">\n",
       "      <th></th>\n",
       "      <th>count</th>\n",
       "      <th>unique</th>\n",
       "      <th>top</th>\n",
       "      <th>freq</th>\n",
       "      <th>missing</th>\n",
       "      <th>missingness</th>\n",
       "    </tr>\n",
       "  </thead>\n",
       "  <tbody>\n",
       "    <tr>\n",
       "      <th>product_id</th>\n",
       "      <td>8457</td>\n",
       "      <td>7084</td>\n",
       "      <td>911D86810CD85B01AF3C7304C92FA101</td>\n",
       "      <td>24</td>\n",
       "      <td>1543</td>\n",
       "      <td>15.43</td>\n",
       "    </tr>\n",
       "  </tbody>\n",
       "</table>\n",
       "</div>"
      ],
      "text/plain": [
       "           count unique                               top freq  missing  missingness\n",
       "product_id  8457   7084  911D86810CD85B01AF3C7304C92FA101   24     1543        15.43"
      ]
     },
     "execution_count": 11,
     "metadata": {},
     "output_type": "execute_result"
    }
   ],
   "source": [
    "stats = dataset.profile.describe(column='product_id')\n",
    "stats"
   ]
  },
  {
   "cell_type": "code",
   "execution_count": 12,
   "metadata": {},
   "outputs": [
    {
     "data": {
      "image/png": "[encoded data removed]",
      "text/plain": [
       "<Figure size 864x432 with 1 Axes>"
      ]
     },
     "metadata": {},
     "output_type": "display_data"
    }
   ],
   "source": [
    "dataset.profile.topn_plot(column='product_id')"
   ]
  },
  {
   "cell_type": "code",
   "execution_count": 13,
   "metadata": {},
   "outputs": [
    {
     "ename": "AttributeError",
     "evalue": "'NoneType' object has no attribute 'all'",
     "output_type": "error",
     "traceback": [
      "\u001b[1;31m---------------------------------------------------------------------------\u001b[0m",
      "\u001b[1;31mAttributeError\u001b[0m                            Traceback (most recent call last)",
      "\u001b[1;32m~\\AppData\\Local\\Temp\\ipykernel_24612\\2823709870.py\u001b[0m in \u001b[0;36m<module>\u001b[1;34m\u001b[0m\n\u001b[1;32m----> 1\u001b[1;33m \u001b[0mdataset\u001b[0m\u001b[1;33m.\u001b[0m\u001b[0mprofile\u001b[0m\u001b[1;33m.\u001b[0m\u001b[0mcfd_plot\u001b[0m\u001b[1;33m(\u001b[0m\u001b[0mcolumn\u001b[0m\u001b[1;33m=\u001b[0m\u001b[1;34m'product_id'\u001b[0m\u001b[1;33m)\u001b[0m\u001b[1;33m\u001b[0m\u001b[1;33m\u001b[0m\u001b[0m\n\u001b[0m",
      "\u001b[1;32mc:\\Users\\John\\Documents\\Data Science\\Projects\\cvr\\cvr\\core\\profile.py\u001b[0m in \u001b[0;36mcfd_plot\u001b[1;34m(self, column)\u001b[0m\n\u001b[0;32m    146\u001b[0m     \u001b[1;32mdef\u001b[0m \u001b[0mcfd_plot\u001b[0m\u001b[1;33m(\u001b[0m\u001b[0mself\u001b[0m\u001b[1;33m,\u001b[0m \u001b[0mcolumn\u001b[0m\u001b[1;33m:\u001b[0m \u001b[0mstr\u001b[0m\u001b[1;33m)\u001b[0m \u001b[1;33m->\u001b[0m \u001b[1;32mNone\u001b[0m\u001b[1;33m:\u001b[0m\u001b[1;33m\u001b[0m\u001b[1;33m\u001b[0m\u001b[0m\n\u001b[0;32m    147\u001b[0m \u001b[1;33m\u001b[0m\u001b[0m\n\u001b[1;32m--> 148\u001b[1;33m         \u001b[0mself\u001b[0m\u001b[1;33m.\u001b[0m\u001b[0m_categorical_visualizer\u001b[0m\u001b[1;33m.\u001b[0m\u001b[0mfit\u001b[0m\u001b[1;33m(\u001b[0m\u001b[0mself\u001b[0m\u001b[1;33m.\u001b[0m\u001b[0m_data\u001b[0m\u001b[1;33m[\u001b[0m\u001b[0mcolumn\u001b[0m\u001b[1;33m]\u001b[0m\u001b[1;33m)\u001b[0m\u001b[1;33m\u001b[0m\u001b[1;33m\u001b[0m\u001b[0m\n\u001b[0m\u001b[0;32m    149\u001b[0m         \u001b[0mself\u001b[0m\u001b[1;33m.\u001b[0m\u001b[0m_categorical_visualizer\u001b[0m\u001b[1;33m.\u001b[0m\u001b[0mcfd\u001b[0m\u001b[1;33m(\u001b[0m\u001b[1;33m)\u001b[0m\u001b[1;33m\u001b[0m\u001b[1;33m\u001b[0m\u001b[0m\n\u001b[0;32m    150\u001b[0m \u001b[1;33m\u001b[0m\u001b[0m\n",
      "\u001b[1;32mc:\\Users\\John\\Documents\\Data Science\\Projects\\cvr\\cvr\\visualize\\features.py\u001b[0m in \u001b[0;36mfit\u001b[1;34m(self, X)\u001b[0m\n\u001b[0;32m     53\u001b[0m             \u001b[0mX\u001b[0m \u001b[1;33m(\u001b[0m\u001b[0mpd\u001b[0m\u001b[1;33m.\u001b[0m\u001b[0mSeries\u001b[0m\u001b[1;33m)\u001b[0m\u001b[1;33m:\u001b[0m \u001b[0mPandas\u001b[0m \u001b[0mseries\u001b[0m \u001b[0mcontaining\u001b[0m \u001b[0mthe\u001b[0m \u001b[0mdata\u001b[0m\u001b[1;33m.\u001b[0m\u001b[1;33m\u001b[0m\u001b[1;33m\u001b[0m\u001b[0m\n\u001b[0;32m     54\u001b[0m         \"\"\"\n\u001b[1;32m---> 55\u001b[1;33m         \u001b[1;32mif\u001b[0m \u001b[1;32mnot\u001b[0m \u001b[0mself\u001b[0m\u001b[1;33m.\u001b[0m\u001b[0m_is_fitted\u001b[0m \u001b[1;32mor\u001b[0m \u001b[1;32mnot\u001b[0m \u001b[0mself\u001b[0m\u001b[1;33m.\u001b[0m\u001b[0m_X\u001b[0m\u001b[1;33m.\u001b[0m\u001b[0mall\u001b[0m\u001b[1;33m(\u001b[0m\u001b[1;33m)\u001b[0m \u001b[1;33m==\u001b[0m \u001b[0mX\u001b[0m\u001b[1;33m.\u001b[0m\u001b[0mall\u001b[0m\u001b[1;33m(\u001b[0m\u001b[1;33m)\u001b[0m\u001b[1;33m:\u001b[0m\u001b[1;33m\u001b[0m\u001b[1;33m\u001b[0m\u001b[0m\n\u001b[0m\u001b[0;32m     56\u001b[0m             \u001b[0mself\u001b[0m\u001b[1;33m.\u001b[0m\u001b[0m_is_fitted\u001b[0m \u001b[1;33m=\u001b[0m \u001b[1;32mFalse\u001b[0m\u001b[1;33m\u001b[0m\u001b[1;33m\u001b[0m\u001b[0m\n\u001b[0;32m     57\u001b[0m             \u001b[0mself\u001b[0m\u001b[1;33m.\u001b[0m\u001b[0m_column\u001b[0m \u001b[1;33m=\u001b[0m \u001b[0mX\u001b[0m\u001b[1;33m.\u001b[0m\u001b[0mto_frame\u001b[0m\u001b[1;33m(\u001b[0m\u001b[1;33m)\u001b[0m\u001b[1;33m.\u001b[0m\u001b[0mcolumns\u001b[0m\u001b[1;33m.\u001b[0m\u001b[0mvalues\u001b[0m\u001b[1;33m[\u001b[0m\u001b[1;36m0\u001b[0m\u001b[1;33m]\u001b[0m\u001b[1;33m\u001b[0m\u001b[1;33m\u001b[0m\u001b[0m\n",
      "\u001b[1;31mAttributeError\u001b[0m: 'NoneType' object has no attribute 'all'"
     ]
    }
   ],
   "source": [
    "dataset.profile.cfd_plot(column='product_id')"
   ]
  },
  {
   "cell_type": "markdown",
   "metadata": {},
   "source": [
    "The top 10 products by frequency constitute less than 2% of the data; however, the exponential cumulative frequency distribution manifests a rapid, steep climb as categories are added.   \n",
    "### Device Type"
   ]
  },
  {
   "cell_type": "code",
   "execution_count": null,
   "metadata": {},
   "outputs": [],
   "source": [
    "dataset.profile.analyze(column='device_type')"
   ]
  },
  {
   "cell_type": "markdown",
   "metadata": {},
   "source": [
    "Nearly all of the data are represented by top 3 of the 8 device types.\n",
    "### Audience Id"
   ]
  },
  {
   "cell_type": "code",
   "execution_count": null,
   "metadata": {},
   "outputs": [],
   "source": [
    "dataset.analyze(column='audience_id')"
   ]
  },
  {
   "cell_type": "markdown",
   "metadata": {},
   "source": [
    "### Product Gender"
   ]
  },
  {
   "cell_type": "code",
   "execution_count": null,
   "metadata": {},
   "outputs": [],
   "source": [
    "dataset.analyze(column='product_gender')"
   ]
  },
  {
   "cell_type": "markdown",
   "metadata": {},
   "source": [
    "### Product Brand"
   ]
  },
  {
   "cell_type": "code",
   "execution_count": null,
   "metadata": {},
   "outputs": [],
   "source": [
    "dataset.analyze(column='product_brand')"
   ]
  },
  {
   "cell_type": "markdown",
   "metadata": {},
   "source": [
    "### Product Category 1"
   ]
  },
  {
   "cell_type": "code",
   "execution_count": null,
   "metadata": {},
   "outputs": [],
   "source": [
    "dataset.analyze(column='product_category_1')"
   ]
  },
  {
   "cell_type": "markdown",
   "metadata": {},
   "source": [
    "### Product Category 2"
   ]
  },
  {
   "cell_type": "code",
   "execution_count": null,
   "metadata": {},
   "outputs": [],
   "source": [
    "dataset.analyze(column='product_category_2')"
   ]
  },
  {
   "cell_type": "markdown",
   "metadata": {},
   "source": [
    "### Product Category 3"
   ]
  },
  {
   "cell_type": "code",
   "execution_count": null,
   "metadata": {},
   "outputs": [],
   "source": [
    "dataset.analyze(column='product_category_3')"
   ]
  },
  {
   "cell_type": "markdown",
   "metadata": {},
   "source": [
    "### Product Category 4"
   ]
  },
  {
   "cell_type": "code",
   "execution_count": null,
   "metadata": {},
   "outputs": [],
   "source": [
    "dataset.analyze(column='product_category_4')"
   ]
  },
  {
   "cell_type": "markdown",
   "metadata": {},
   "source": [
    "### Product Category 5"
   ]
  },
  {
   "cell_type": "code",
   "execution_count": null,
   "metadata": {},
   "outputs": [],
   "source": [
    "dataset.analyze(column='product_category_5')"
   ]
  },
  {
   "cell_type": "markdown",
   "metadata": {},
   "source": [
    "### Product Category 6"
   ]
  },
  {
   "cell_type": "code",
   "execution_count": null,
   "metadata": {},
   "outputs": [],
   "source": [
    "dataset.analyze(column='product_category_6')"
   ]
  },
  {
   "cell_type": "markdown",
   "metadata": {},
   "source": [
    "### Product Category 7"
   ]
  },
  {
   "cell_type": "code",
   "execution_count": null,
   "metadata": {},
   "outputs": [],
   "source": [
    "dataset.analyze(column='product_category_7')"
   ]
  },
  {
   "cell_type": "markdown",
   "metadata": {},
   "source": [
    "### Product Country"
   ]
  },
  {
   "cell_type": "code",
   "execution_count": null,
   "metadata": {},
   "outputs": [],
   "source": [
    "dataset.analyze(column='product_country')"
   ]
  },
  {
   "cell_type": "markdown",
   "metadata": {},
   "source": [
    "### Product Id"
   ]
  },
  {
   "cell_type": "code",
   "execution_count": null,
   "metadata": {},
   "outputs": [],
   "source": [
    "dataset.analyze(column='product_id')"
   ]
  },
  {
   "cell_type": "markdown",
   "metadata": {},
   "source": [
    "### Partner Id"
   ]
  },
  {
   "cell_type": "code",
   "execution_count": null,
   "metadata": {},
   "outputs": [],
   "source": [
    "dataset.analyze(column='partner_id')"
   ]
  }
 ],
 "metadata": {
  "interpreter": {
   "hash": "ba6615e5a7b7e3657be37061ca9c48b0632f150281e10ebc62a462ee17016418"
  },
  "kernelspec": {
   "display_name": "Python 3.7.12 64-bit ('cvr': conda)",
   "language": "python",
   "name": "python3"
  },
  "language_info": {
   "codemirror_mode": {
    "name": "ipython",
    "version": 3
   },
   "file_extension": ".py",
   "mimetype": "text/x-python",
   "name": "python",
   "nbconvert_exporter": "python",
   "pygments_lexer": "ipython3",
   "version": "3.7.12"
  }
 },
 "nbformat": 4,
 "nbformat_minor": 2
}
