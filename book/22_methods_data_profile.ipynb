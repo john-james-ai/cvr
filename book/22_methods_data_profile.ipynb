{
 "cells": [
  {
   "cell_type": "markdown",
   "metadata": {},
   "source": [
    "# Data Profile\n",
    "This first examination of the data seeks to characterize data quality in its (near) raw form. Here, we will discover the scope and breadth of data preprocessing that will be considered before advancing to the exploratory analysis effort. The remainder of this section is organized as follows:\n",
    "\n",
    "   1. Dataset Overview    \n",
    "      1.0. Dataset Summary Statistics\n",
    "      1.1. Dataset Columns Datatypes    \n",
    "      1.2. Missing Data Analysis   \n",
    "      1.3. Cardinality Analysis   \n",
    "\n",
    "  \n",
    "   2. Qualitative Variable Analysis   \n",
    "      2.0. Descriptive Statistics     \n",
    "      2.1. Frequency Distribution Analysis     \n",
    "    \n",
    "   3. Quantitative Variable Analysis       \n",
    "      3.0. Descriptive Statistics     \n",
    "      3.1. Distribution Analysis     \n",
    "  \n",
    "   4. Summary and Recommendations    "
   ]
  },
  {
   "cell_type": "code",
   "execution_count": 2,
   "metadata": {},
   "outputs": [],
   "source": [
    "from myst_nb import glue\n",
    "from cvr.core.workspace import Workspace, WorkspaceManager\n",
    "import pandas as pd\n",
    "pd.options.display.float_format = '{:,.2f}'.format\n",
    "pd.set_option('display.width', 1000)"
   ]
  },
  {
   "cell_type": "markdown",
   "metadata": {},
   "source": [
    "First, we'll obtain the 'criteo' 'preprocessed' dataset from the 'Vesuvio' workspace created during data acquisition."
   ]
  },
  {
   "cell_type": "code",
   "execution_count": 2,
   "metadata": {},
   "outputs": [
    {
     "data": {
      "text/plain": [
       "'full_month'"
      ]
     },
     "execution_count": 2,
     "metadata": {},
     "output_type": "execute_result"
    }
   ],
   "source": [
    "wsm = WorkspaceManager()\n",
    "workspace = wsm.get_workspace('Vesuvio')\n",
    "dataset = workspace.get_dataset(name='criteo', stage='preprocessed')"
   ]
  },
  {
   "cell_type": "markdown",
   "metadata": {},
   "source": [
    "## Dataset Overview\n",
    "### Dataset Summary Statistics"
   ]
  },
  {
   "cell_type": "code",
   "execution_count": 8,
   "metadata": {},
   "outputs": [
    {
     "name": "stdout",
     "output_type": "stream",
     "text": [
      "\n",
      "\n",
      "                                Dataset Summary                                 \n",
      "                                staging_vesuvio                                 \n",
      "                                _______________                                 \n",
      "                                   Rows : 15,995,634\n",
      "                                Columns : 23\n",
      "                          Missing Cells : 167,746,417\n",
      "                        Missing Cells % : 45.6\n",
      "                         Duplicate Rows : 20,958\n",
      "                       Duplicate Rows % : 0.13\n",
      "                              Size (Mb) : 4,972.71\n"
     ]
    }
   ],
   "source": [
    "summary = dataset.summary()"
   ]
  },
  {
   "cell_type": "code",
   "execution_count": 3,
   "metadata": {},
   "outputs": [
    {
     "ename": "NameError",
     "evalue": "name 'summary' is not defined",
     "output_type": "error",
     "traceback": [
      "\u001b[1;31m---------------------------------------------------------------------------\u001b[0m",
      "\u001b[1;31mNameError\u001b[0m                                 Traceback (most recent call last)",
      "\u001b[1;32m~\\AppData\\Local\\Temp\\ipykernel_28292\\481955920.py\u001b[0m in \u001b[0;36m<module>\u001b[1;34m\u001b[0m\n\u001b[1;32m----> 1\u001b[1;33m \u001b[0m_\u001b[0m \u001b[1;33m=\u001b[0m \u001b[0mglue\u001b[0m\u001b[1;33m(\u001b[0m\u001b[1;34m\"profile_rows\"\u001b[0m\u001b[1;33m,\u001b[0m\u001b[0msummary\u001b[0m\u001b[1;33m[\u001b[0m\u001b[1;34m\"Rows\"\u001b[0m\u001b[1;33m]\u001b[0m\u001b[1;33m,\u001b[0m \u001b[0mdisplay\u001b[0m\u001b[1;33m=\u001b[0m\u001b[1;32mFalse\u001b[0m\u001b[1;33m)\u001b[0m\u001b[1;33m\u001b[0m\u001b[1;33m\u001b[0m\u001b[0m\n\u001b[0m\u001b[0;32m      2\u001b[0m \u001b[0m_\u001b[0m \u001b[1;33m=\u001b[0m \u001b[0mglue\u001b[0m\u001b[1;33m(\u001b[0m\u001b[1;34m\"profile_columns\"\u001b[0m\u001b[1;33m,\u001b[0m \u001b[0msummary\u001b[0m\u001b[1;33m[\u001b[0m\u001b[1;34m\"Columns\"\u001b[0m\u001b[1;33m]\u001b[0m\u001b[1;33m,\u001b[0m \u001b[0mdisplay\u001b[0m\u001b[1;33m=\u001b[0m\u001b[1;32mFalse\u001b[0m\u001b[1;33m)\u001b[0m\u001b[1;33m\u001b[0m\u001b[1;33m\u001b[0m\u001b[0m\n\u001b[0;32m      3\u001b[0m \u001b[0m_\u001b[0m \u001b[1;33m=\u001b[0m \u001b[0mglue\u001b[0m\u001b[1;33m(\u001b[0m\u001b[1;34m\"profile_missing\"\u001b[0m\u001b[1;33m,\u001b[0m \u001b[0msummary\u001b[0m\u001b[1;33m[\u001b[0m\u001b[1;34m\"Missing Cells %\"\u001b[0m\u001b[1;33m]\u001b[0m\u001b[1;33m,\u001b[0m \u001b[0mdisplay\u001b[0m\u001b[1;33m=\u001b[0m\u001b[1;32mFalse\u001b[0m\u001b[1;33m)\u001b[0m\u001b[1;33m\u001b[0m\u001b[1;33m\u001b[0m\u001b[0m\n\u001b[0;32m      4\u001b[0m \u001b[0m_\u001b[0m \u001b[1;33m=\u001b[0m \u001b[0mglue\u001b[0m\u001b[1;33m(\u001b[0m\u001b[1;34m\"profile_size\"\u001b[0m\u001b[1;33m,\u001b[0m \u001b[0msummary\u001b[0m\u001b[1;33m[\u001b[0m\u001b[1;34m\"Size (Mb)\"\u001b[0m\u001b[1;33m]\u001b[0m\u001b[1;33m,\u001b[0m \u001b[0mdisplay\u001b[0m\u001b[1;33m=\u001b[0m\u001b[1;32mFalse\u001b[0m\u001b[1;33m)\u001b[0m\u001b[1;33m\u001b[0m\u001b[1;33m\u001b[0m\u001b[0m\n\u001b[0;32m      5\u001b[0m \u001b[0m_\u001b[0m \u001b[1;33m=\u001b[0m \u001b[0mglue\u001b[0m\u001b[1;33m(\u001b[0m\u001b[1;34m\"profile_dups\"\u001b[0m\u001b[1;33m,\u001b[0m \u001b[0msummary\u001b[0m\u001b[1;33m[\u001b[0m\u001b[1;34m\"Duplicate Rows\"\u001b[0m\u001b[1;33m]\u001b[0m\u001b[1;33m,\u001b[0m \u001b[0mdisplay\u001b[0m\u001b[1;33m=\u001b[0m\u001b[1;32mFalse\u001b[0m\u001b[1;33m)\u001b[0m\u001b[1;33m\u001b[0m\u001b[1;33m\u001b[0m\u001b[0m\n",
      "\u001b[1;31mNameError\u001b[0m: name 'summary' is not defined"
     ]
    }
   ],
   "source": [
    "_ = glue(\"profile_rows\",summary[\"Rows\"], display=False)\n",
    "_ = glue(\"profile_columns\", summary[\"Columns\"], display=False)\n",
    "_ = glue(\"profile_missing\", summary[\"Missing Cells %\"], display=False)\n",
    "_ = glue(\"profile_size\", summary[\"Size (Mb)\"], display=False)\n",
    "_ = glue(\"profile_dups\", summary[\"Duplicate Rows\"], display=False)\n",
    "_ = glue(\"profile_dup_pct\", summary[\"Duplicate Rows %\"], display=False)"
   ]
  },
  {
   "cell_type": "markdown",
   "metadata": {},
   "source": [
    "This dataset contains some {glue:}`profile_rows` observations, each with {glue:}`profile_columns` columns for a size of {glue:}`profile_size` Mb.  Some {glue:}`profile_missing`% of the data are missing which reflects the sparsity of user behavior logs. Further, we have some {glue:}`profile_dups` duplicate rows which, one might consider a large number, although that makes just {glue:}`profile_dup_pct`% of the sample.\n",
    "\n",
    "### Dataset Columns and Datatypes"
   ]
  },
  {
   "cell_type": "code",
   "execution_count": 10,
   "metadata": {},
   "outputs": [
    {
     "name": "stdout",
     "output_type": "stream",
     "text": [
      "\n",
      "\n",
      "                                Dataset vesuvio                                 \n",
      "                                _______________                                 \n",
      "<class 'pandas.core.frame.DataFrame'>\n",
      "RangeIndex: 15995634 entries, 0 to 15995633\n",
      "Data columns (total 23 columns):\n",
      " #   Column                 Non-Null Count     Dtype   \n",
      "---  ------                 --------------     -----   \n",
      " 0   sale                   15995634 non-null  category\n",
      " 1   sales_amount           1732721 non-null   float64 \n",
      " 2   conversion_time_delay  1727341 non-null   float64 \n",
      " 3   click_ts               15995634 non-null  float64 \n",
      " 4   n_clicks_1week         9251207 non-null   float64 \n",
      " 5   product_price          15995634 non-null  float64 \n",
      " 6   product_age_group      4235576 non-null   category\n",
      " 7   device_type            15992602 non-null  category\n",
      " 8   audience_id            4493616 non-null   category\n",
      " 9   product_gender         4341439 non-null   category\n",
      " 10  product_brand          8754074 non-null   category\n",
      " 11  product_category_1     9852878 non-null   category\n",
      " 12  product_category_2     9844385 non-null   category\n",
      " 13  product_category_3     8652958 non-null   category\n",
      " 14  product_category_4     5501326 non-null   category\n",
      " 15  product_category_5     1400580 non-null   category\n",
      " 16  product_category_6     278484 non-null    category\n",
      " 17  product_category_7     220 non-null       category\n",
      " 18  product_country        12160832 non-null  category\n",
      " 19  product_id             12167296 non-null  category\n",
      " 20  product_title          9787460 non-null   object  \n",
      " 21  partner_id             15995634 non-null  category\n",
      " 22  user_id                15995634 non-null  category\n",
      "dtypes: category(17), float64(5), object(1)\n",
      "memory usage: 1.9+ GB\n"
     ]
    }
   ],
   "source": [
    "dataset.info()"
   ]
  },
  {
   "cell_type": "markdown",
   "metadata": {},
   "source": [
    "Converting the pandas object variables to category data types may bring some computational efficiencies which may be material for a dataset of this size. Still, the number that stands out so far is the 45% missing rate. "
   ]
  },
  {
   "cell_type": "code",
   "execution_count": 12,
   "metadata": {},
   "outputs": [
    {
     "name": "stdout",
     "output_type": "stream",
     "text": [
      "\n",
      "\n",
      "                             Missing Data Analysis                              \n",
      "                                staging_vesuvio                                 \n",
      "                             _____________________                              \n",
      "                              n   Missing  Missingness\n",
      "sale                   15995634         0         0.00\n",
      "sales_amount           15995634  14262913        89.17\n",
      "conversion_time_delay  15995634  14268293        89.20\n",
      "click_ts               15995634         0         0.00\n",
      "n_clicks_1week         15995634   6744427        42.16\n",
      "product_price          15995634         0         0.00\n",
      "product_age_group      15995634  11760058        73.52\n",
      "device_type            15995634      3032         0.02\n",
      "audience_id            15995634  11502018        71.91\n",
      "product_gender         15995634  11654195        72.86\n",
      "product_brand          15995634   7241560        45.27\n",
      "product_category_1     15995634   6142756        38.40\n",
      "product_category_2     15995634   6151249        38.46\n",
      "product_category_3     15995634   7342676        45.90\n",
      "product_category_4     15995634  10494308        65.61\n",
      "product_category_5     15995634  14595054        91.24\n",
      "product_category_6     15995634  15717150        98.26\n",
      "product_category_7     15995634  15995414       100.00\n",
      "product_country        15995634   3834802        23.97\n",
      "product_id             15995634   3828338        23.93\n",
      "product_title          15995634   6208174        38.81\n",
      "partner_id             15995634         0         0.00\n",
      "user_id                15995634         0         0.00\n"
     ]
    }
   ],
   "source": [
    "_ = dataset.missing"
   ]
  },
  {
   "cell_type": "markdown",
   "metadata": {},
   "source": [
    "Here, we get a better sense of the nature of the data sparsity challenge. Nine columns have missing rates over 50%; five of which have missing rates of 90% or more. Notably, the diversity and data sparsity reflect the nature of buying behavior and are common challenges in customer segmentation and analytics. \n",
    "\n",
    "Still, the sparsity (and masking) of the data leaves us with few meaningful imputation strategies. In fact, one might replace the term 'missing' with 'absent'. Missing implies an error or omission in the data which may not comport with the underlying patterns. For instance, 91% of the observations have no value for product_category_5. It's possible that the data are missing at random; however, it is also possible that most products don't have 5 product categories. \n",
    "\n",
    "Let's take a closer look at the frequency distributions of the categories.\n",
    "## Frequency Distribution\n",
    "Let's get an overall sense of cardinality of the data."
   ]
  },
  {
   "cell_type": "code",
   "execution_count": 14,
   "metadata": {},
   "outputs": [
    {
     "name": "stdout",
     "output_type": "stream",
     "text": [
      "\n",
      "\n",
      "                                  Cardinality                                   \n",
      "                                staging_vesuvio                                 \n",
      "                                _______________                                 \n",
      "                   Column    Unique     Total  Pct Unique\n",
      "0                    sale         2  15995634        0.00\n",
      "1            sales_amount    513406   1732721       29.63\n",
      "2   conversion_time_delay    574347   1727341       33.25\n",
      "3                click_ts   6456934  15995634       40.37\n",
      "4          n_clicks_1week      4613   9251207        0.05\n",
      "5           product_price     43143  15995634        0.27\n",
      "6       product_age_group        11   4235576        0.00\n",
      "7             device_type         8  15992602        0.00\n",
      "8             audience_id     18228   4493616        0.41\n",
      "9          product_gender        17   4341439        0.00\n",
      "10          product_brand     55983   8754074        0.64\n",
      "11     product_category_1        21   9852878        0.00\n",
      "12     product_category_2       173   9844385        0.00\n",
      "13     product_category_3      1037   8652958        0.01\n",
      "14     product_category_4      1552   5501326        0.03\n",
      "15     product_category_5       841   1400580        0.06\n",
      "16     product_category_6       213    278484        0.08\n",
      "17     product_category_7         5       220        2.27\n",
      "18        product_country        23  12160832        0.00\n",
      "19             product_id   1628064  12167296       13.38\n",
      "20          product_title    790521   9787460        8.08\n",
      "21             partner_id       312  15995634        0.00\n",
      "22                user_id  13708490  15995634       85.70\n"
     ]
    }
   ],
   "source": [
    "_ = dataset.cardinality"
   ]
  }
 ],
 "metadata": {
  "interpreter": {
   "hash": "ba6615e5a7b7e3657be37061ca9c48b0632f150281e10ebc62a462ee17016418"
  },
  "kernelspec": {
   "display_name": "Python 3.7.12 64-bit ('cvr': conda)",
   "language": "python",
   "name": "python3"
  },
  "language_info": {
   "codemirror_mode": {
    "name": "ipython",
    "version": 3
   },
   "file_extension": ".py",
   "mimetype": "text/x-python",
   "name": "python",
   "nbconvert_exporter": "python",
   "pygments_lexer": "ipython3",
   "version": "3.7.12"
  },
  "orig_nbformat": 4
 },
 "nbformat": 4,
 "nbformat_minor": 2
}
