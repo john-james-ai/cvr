{
 "cells": [
  {
   "cell_type": "markdown",
   "metadata": {},
   "source": [
    "# Data Profile\n",
    "This first examination of the data seeks to characterize data quality in its (near) raw form. Here, we will discover the scope and breadth of data preprocessing that will be considered before advancing to the exploratory analysis effort. The remainder of this section is organized as follows:\n",
    "\n",
    "   1. Descriptive statistics, missing values and cardinality.    \n",
    "   2. Distribution analysis of continuous variables.    \n",
    "   3. Frequency analysis of categorical variables.         \n",
    "   4. Summary and recommendations\n",
    "\n",
    "If you recall, in the last section, we loaded the Dataset object, vesuvio, into the staging area of the workspace of the same name.  Let's instantiate vesuvio (singleton) and obtain the Datasaet."
   ]
  },
  {
   "cell_type": "code",
   "execution_count": 1,
   "metadata": {},
   "outputs": [],
   "source": [
    "from myst_nb import glue\n",
    "from cvr.core.workspace import Workspace\n",
    "import pandas as pd\n",
    "#pd.set_option('display.float_format', lambda x: '%.3f' % x)\n",
    "pd.options.display.float_format = '{:,.2f}'.format\n",
    "pd.set_option('display.width', 1000)\n",
    "random_state = 55"
   ]
  },
  {
   "cell_type": "code",
   "execution_count": 8,
   "metadata": {},
   "outputs": [
    {
     "name": "stdout",
     "output_type": "stream",
     "text": [
      "\n",
      "\n",
      "                                Dataset Summary                                 \n",
      "                                staging_vesuvio                                 \n",
      "                                _______________                                 \n",
      "                                   Rows : 15,995,634\n",
      "                                Columns : 23\n",
      "                          Missing Cells : 167,746,417\n",
      "                        Missing Cells % : 45.6\n",
      "                         Duplicate Rows : 20,958\n",
      "                       Duplicate Rows % : 0.13\n",
      "                              Size (Mb) : 4,972.71\n"
     ]
    }
   ],
   "source": [
    "workspace = Workspace('vesuvio')\n",
    "dataset = workspace.get_dataset(stage='staging', name='vesuvio')\n",
    "summary = dataset.summary"
   ]
  },
  {
   "cell_type": "code",
   "execution_count": 3,
   "metadata": {},
   "outputs": [
    {
     "data": {
      "text/plain": [
       "10000"
      ]
     },
     "metadata": {
      "scrapbook": {
       "mime_prefix": "",
       "name": "rows"
      }
     },
     "output_type": "display_data"
    },
    {
     "data": {
      "text/plain": [
       "23"
      ]
     },
     "metadata": {
      "scrapbook": {
       "mime_prefix": "",
       "name": "columns"
      }
     },
     "output_type": "display_data"
    },
    {
     "data": {
      "text/plain": [
       "49.56"
      ]
     },
     "metadata": {
      "scrapbook": {
       "mime_prefix": "",
       "name": "missing"
      }
     },
     "output_type": "display_data"
    },
    {
     "data": {
      "text/plain": [
       "3.94"
      ]
     },
     "metadata": {
      "scrapbook": {
       "mime_prefix": "",
       "name": "size"
      }
     },
     "output_type": "display_data"
    },
    {
     "data": {
      "text/plain": [
       "0"
      ]
     },
     "metadata": {
      "scrapbook": {
       "mime_prefix": "",
       "name": "dups"
      }
     },
     "output_type": "display_data"
    }
   ],
   "source": [
    "_ = glue(\"rows\",summary[\"Rows\"])\n",
    "_ = glue(\"columns\", summary[\"Columns\"])\n",
    "_ = glue(\"missing\", summary[\"Missing Cells %\"])\n",
    "_ = glue(\"size\", summary[\"Size (Mb)\"])\n",
    "_ = glue(\"dups\", summary[\"Duplicate Rows\"])"
   ]
  },
  {
   "cell_type": "markdown",
   "metadata": {},
   "source": [
    "This dataset contains some {glue:}`rows` observations, each with {glue:}`columns` columns for a size of {glue:}`size` Mb.  Some {glue:}`missing`% of the data are missing which reflects the sparsity of user behavior logs. Further, we have some {glue:}`dups` duplicate rows which, one might consider a large number, although that makes up less than 0.2 percent of the sample."
   ]
  },
  {
   "cell_type": "code",
   "execution_count": 10,
   "metadata": {},
   "outputs": [
    {
     "name": "stdout",
     "output_type": "stream",
     "text": [
      "\n",
      "\n",
      "                                Dataset vesuvio                                 \n",
      "                                _______________                                 \n",
      "<class 'pandas.core.frame.DataFrame'>\n",
      "RangeIndex: 15995634 entries, 0 to 15995633\n",
      "Data columns (total 23 columns):\n",
      " #   Column                 Non-Null Count     Dtype   \n",
      "---  ------                 --------------     -----   \n",
      " 0   sale                   15995634 non-null  category\n",
      " 1   sales_amount           1732721 non-null   float64 \n",
      " 2   conversion_time_delay  1727341 non-null   float64 \n",
      " 3   click_ts               15995634 non-null  float64 \n",
      " 4   n_clicks_1week         9251207 non-null   float64 \n",
      " 5   product_price          15995634 non-null  float64 \n",
      " 6   product_age_group      4235576 non-null   category\n",
      " 7   device_type            15992602 non-null  category\n",
      " 8   audience_id            4493616 non-null   category\n",
      " 9   product_gender         4341439 non-null   category\n",
      " 10  product_brand          8754074 non-null   category\n",
      " 11  product_category_1     9852878 non-null   category\n",
      " 12  product_category_2     9844385 non-null   category\n",
      " 13  product_category_3     8652958 non-null   category\n",
      " 14  product_category_4     5501326 non-null   category\n",
      " 15  product_category_5     1400580 non-null   category\n",
      " 16  product_category_6     278484 non-null    category\n",
      " 17  product_category_7     220 non-null       category\n",
      " 18  product_country        12160832 non-null  category\n",
      " 19  product_id             12167296 non-null  category\n",
      " 20  product_title          9787460 non-null   object  \n",
      " 21  partner_id             15995634 non-null  category\n",
      " 22  user_id                15995634 non-null  category\n",
      "dtypes: category(17), float64(5), object(1)\n",
      "memory usage: 1.9+ GB\n"
     ]
    }
   ],
   "source": [
    "dataset.info()"
   ]
  },
  {
   "cell_type": "markdown",
   "metadata": {},
   "source": [
    "Converting the pandas object variables to category data types may bring some computational efficiencies which may be material for a dataset of this size. Still, the number that stands out so far is the 45% missing rate. "
   ]
  },
  {
   "cell_type": "code",
   "execution_count": 12,
   "metadata": {},
   "outputs": [
    {
     "name": "stdout",
     "output_type": "stream",
     "text": [
      "\n",
      "\n",
      "                             Missing Data Analysis                              \n",
      "                                staging_vesuvio                                 \n",
      "                             _____________________                              \n",
      "                              n   Missing  Missingness\n",
      "sale                   15995634         0         0.00\n",
      "sales_amount           15995634  14262913        89.17\n",
      "conversion_time_delay  15995634  14268293        89.20\n",
      "click_ts               15995634         0         0.00\n",
      "n_clicks_1week         15995634   6744427        42.16\n",
      "product_price          15995634         0         0.00\n",
      "product_age_group      15995634  11760058        73.52\n",
      "device_type            15995634      3032         0.02\n",
      "audience_id            15995634  11502018        71.91\n",
      "product_gender         15995634  11654195        72.86\n",
      "product_brand          15995634   7241560        45.27\n",
      "product_category_1     15995634   6142756        38.40\n",
      "product_category_2     15995634   6151249        38.46\n",
      "product_category_3     15995634   7342676        45.90\n",
      "product_category_4     15995634  10494308        65.61\n",
      "product_category_5     15995634  14595054        91.24\n",
      "product_category_6     15995634  15717150        98.26\n",
      "product_category_7     15995634  15995414       100.00\n",
      "product_country        15995634   3834802        23.97\n",
      "product_id             15995634   3828338        23.93\n",
      "product_title          15995634   6208174        38.81\n",
      "partner_id             15995634         0         0.00\n",
      "user_id                15995634         0         0.00\n"
     ]
    }
   ],
   "source": [
    "_ = dataset.missing"
   ]
  },
  {
   "cell_type": "markdown",
   "metadata": {},
   "source": [
    "Here, we get a better sense of the nature of the data sparsity challenge. Nine columns have missing rates over 50%; five of which have missing rates of 90% or more. Notably, the diversity and data sparsity reflect the nature of buying behavior and are common challenges in customer segmentation and analytics. \n",
    "\n",
    "Still, the sparsity (and masking) of the data leaves us with few meaningful imputation strategies. In fact, one might replace the term 'missing' with 'absent'. Missing implies an error or omission in the data which may not comport with the underlying patterns. For instance, 91% of the observations have no value for product_category_5. It's possible that the data are missing at random; however, it is also possible that most products don't have 5 product categories. \n",
    "\n",
    "Let's take a closer look at the frequency distributions of the categories.\n",
    "## Frequency Distribution\n",
    "Let's get an overall sense of cardinality of the data."
   ]
  },
  {
   "cell_type": "code",
   "execution_count": 14,
   "metadata": {},
   "outputs": [
    {
     "name": "stdout",
     "output_type": "stream",
     "text": [
      "\n",
      "\n",
      "                                  Cardinality                                   \n",
      "                                staging_vesuvio                                 \n",
      "                                _______________                                 \n",
      "                   Column    Unique     Total  Pct Unique\n",
      "0                    sale         2  15995634        0.00\n",
      "1            sales_amount    513406   1732721       29.63\n",
      "2   conversion_time_delay    574347   1727341       33.25\n",
      "3                click_ts   6456934  15995634       40.37\n",
      "4          n_clicks_1week      4613   9251207        0.05\n",
      "5           product_price     43143  15995634        0.27\n",
      "6       product_age_group        11   4235576        0.00\n",
      "7             device_type         8  15992602        0.00\n",
      "8             audience_id     18228   4493616        0.41\n",
      "9          product_gender        17   4341439        0.00\n",
      "10          product_brand     55983   8754074        0.64\n",
      "11     product_category_1        21   9852878        0.00\n",
      "12     product_category_2       173   9844385        0.00\n",
      "13     product_category_3      1037   8652958        0.01\n",
      "14     product_category_4      1552   5501326        0.03\n",
      "15     product_category_5       841   1400580        0.06\n",
      "16     product_category_6       213    278484        0.08\n",
      "17     product_category_7         5       220        2.27\n",
      "18        product_country        23  12160832        0.00\n",
      "19             product_id   1628064  12167296       13.38\n",
      "20          product_title    790521   9787460        8.08\n",
      "21             partner_id       312  15995634        0.00\n",
      "22                user_id  13708490  15995634       85.70\n"
     ]
    }
   ],
   "source": [
    "_ = dataset.cardinality"
   ]
  }
 ],
 "metadata": {
  "interpreter": {
   "hash": "ba6615e5a7b7e3657be37061ca9c48b0632f150281e10ebc62a462ee17016418"
  },
  "kernelspec": {
   "display_name": "Python 3.7.12 64-bit ('cvr': conda)",
   "language": "python",
   "name": "python3"
  },
  "language_info": {
   "codemirror_mode": {
    "name": "ipython",
    "version": 3
   },
   "file_extension": ".py",
   "mimetype": "text/x-python",
   "name": "python",
   "nbconvert_exporter": "python",
   "pygments_lexer": "ipython3",
   "version": "3.7.12"
  },
  "orig_nbformat": 4
 },
 "nbformat": 4,
 "nbformat_minor": 2
}
