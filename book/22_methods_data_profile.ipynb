{
 "cells": [
  {
   "cell_type": "markdown",
   "metadata": {},
   "source": [
    "# Data Profile\n",
    "This first examination of the data seeks to characterize data quality in its (near) raw form. Here, we will discover the scope and breadth of data preprocessing that will be considered before advancing to the exploratory analysis effort. The remainder of this section is organized as follows:\n",
    "\n",
    "   1. Descriptive statistics, missing values and cardinality.    \n",
    "   2. Distribution analysis of continuous variables.    \n",
    "   3. Frequency analysis of categorical variables.         \n",
    "   4. Summary and recommendations\n",
    "\n",
    "If you recall, in the last section, we loaded the Dataset object, vesuvio, into the staging area of the workspace of the same name.  Let's instantiate vesuvio (singleton) and obtain the Datasaet."
   ]
  },
  {
   "cell_type": "code",
   "execution_count": 1,
   "metadata": {},
   "outputs": [
    {
     "ename": "SyntaxError",
     "evalue": "invalid syntax (86320822.py, line 1)",
     "output_type": "error",
     "traceback": [
      "\u001b[1;36m  File \u001b[1;32m\"C:\\Users\\John\\AppData\\Local\\Temp\\ipykernel_27480\\86320822.py\"\u001b[1;36m, line \u001b[1;32m1\u001b[0m\n\u001b[1;33m    rom myst_nb import glue\u001b[0m\n\u001b[1;37m              ^\u001b[0m\n\u001b[1;31mSyntaxError\u001b[0m\u001b[1;31m:\u001b[0m invalid syntax\n"
     ]
    }
   ],
   "source": [
    "rom myst_nb import glue\n",
    "from cvr.core.workspace import Workspace"
   ]
  },
  {
   "cell_type": "code",
   "execution_count": null,
   "metadata": {},
   "outputs": [],
   "source": [
    "workspace = Workspace('vesuvio')\n",
    "dataset = workspace.get_dataset(stage='staging', name='vesuvio')\n",
    "summary = dataset.summary"
   ]
  },
  {
   "cell_type": "code",
   "execution_count": null,
   "metadata": {},
   "outputs": [],
   "source": [
    "glue(\"rows\",summary[\"Rows\"])\n",
    "glue(\"columns\", summary[\"Columns\"])\n",
    "glue(\"missing\", summary[\"Missing Cells %\"])\n",
    "glue(\"size\", summary[\"Size (Mb)\"])"
   ]
  },
  {
   "cell_type": "markdown",
   "metadata": {},
   "source": [
    "This dataset contains some {glue:}`rows` observations, each with {glue:}`columns` columns for a size of {glue:}`size` Mb.  Some {glue:}`missing`% of the data are missing which reflects the sparsity of user behavior logs. Let's take a look at a few samples from the dataset."
   ]
  },
  {
   "cell_type": "code",
   "execution_count": null,
   "metadata": {},
   "outputs": [],
   "source": [
    "dataset.sample(1)"
   ]
  }
 ],
 "metadata": {
  "interpreter": {
   "hash": "ba6615e5a7b7e3657be37061ca9c48b0632f150281e10ebc62a462ee17016418"
  },
  "kernelspec": {
   "display_name": "Python 3.7.12 64-bit ('cvr': conda)",
   "language": "python",
   "name": "python3"
  },
  "language_info": {
   "codemirror_mode": {
    "name": "ipython",
    "version": 3
   },
   "file_extension": ".py",
   "mimetype": "text/x-python",
   "name": "python",
   "nbconvert_exporter": "python",
   "pygments_lexer": "ipython3",
   "version": "3.7.12"
  },
  "orig_nbformat": 4
 },
 "nbformat": 4,
 "nbformat_minor": 2
}
