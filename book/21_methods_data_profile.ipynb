{
 "cells": [
  {
   "cell_type": "markdown",
   "metadata": {},
   "source": [
    "# Data Discovery\n",
    "This first examination of the data seeks to characterize data quality and to identify any data preparation that should be conducted in advance of an exploratory data analysis. The remainder of this section is organized as follows:\n",
    "\n",
    "1. Data Acquisition: Obtaining the Criteo data from the source.   \n",
    "2. Dataset Creation: Transform the raw data into a Dataset object \n",
    "3. Dataset Profile: Basic data quality assessment, descriptive statistics, missing values analysis and cardinality\n",
    "4. Distribution Analysis: Evaluation of continuous variable distributions and potential transformations.\n",
    "5. Frequency Analysis: Frequency analysis for categorical variables\n",
    "6. Summary and Recommendations: Characterize key findings and data preprocessing recommendations.\n",
    "\n",
    "## Preliminaries\n",
    "### Module Imports"
   ]
  },
  {
   "cell_type": "code",
   "execution_count": null,
   "metadata": {},
   "outputs": [],
   "source": [
    "from cvr.data.source import CriteoETL, CriteoTransformer\n",
    "from cvr.utils.config import DataSourceConfig"
   ]
  },
  {
   "cell_type": "markdown",
   "metadata": {},
   "source": [
    "### Workspaces\n",
    "Workspace functionality was developed to support prototyping and experimentation with various data sets in isolated, persistent environments. Here, we'll create two workspaces: tom and jerry. Tom includes the entire dataset; whereas, jerry operates on a random subsample of the larger datast."
   ]
  },
  {
   "cell_type": "code",
   "execution_count": null,
   "metadata": {},
   "outputs": [],
   "source": [
    "tom = Workspace('tom', 'full dataset')\n",
    "jerry = Workspace('jerry', 'sample dataset')"
   ]
  },
  {
   "cell_type": "markdown",
   "metadata": {},
   "source": [
    "## Data Acquisition\n",
    "The data are extracted from the Criteo website, transformed into Dataset objects and loaded into the workspace for data profiling. \n",
    "### Extract\n",
    "The DataSourceConfig object, which contains the URL, filenames for the Criteo site, downloads the data to the raw data directory.\n"
   ]
  },
  {
   "cell_type": "code",
   "execution_count": null,
   "metadata": {},
   "outputs": [],
   "source": [
    "config = DataSourceConfig()\n",
    "source = CriteoETL(config)\n",
    "source.extract()\n",
    "source.summary"
   ]
  },
  {
   "cell_type": "markdown",
   "metadata": {},
   "source": [
    "### Transform\n",
    "CriteoTransformer implements several a priori transformations. Specifically, missing values indicated by '-1' were converted to numpy NaN values. The target variable, 'sale' was converted from an integer to a binary categorical variable. Object datatypes were also converted to category types. "
   ]
  },
  {
   "cell_type": "code",
   "execution_count": null,
   "metadata": {},
   "outputs": [],
   "source": [
    "x4mr = CriteoTransformer()\n",
    "x4mr.transform()"
   ]
  },
  {
   "cell_type": "markdown",
   "metadata": {},
   "source": [
    "Next, we transform the data into a Dataset object encapsulating the data, basic analysis functionality and metadata. "
   ]
  },
  {
   "cell_type": "code",
   "execution_count": null,
   "metadata": {},
   "outputs": [],
   "source": []
  }
 ],
 "metadata": {
  "interpreter": {
   "hash": "ba6615e5a7b7e3657be37061ca9c48b0632f150281e10ebc62a462ee17016418"
  },
  "kernelspec": {
   "display_name": "Python 3.7.12 64-bit ('cvr': conda)",
   "language": "python",
   "name": "python3"
  },
  "language_info": {
   "codemirror_mode": {
    "name": "ipython",
    "version": 3
   },
   "file_extension": ".py",
   "mimetype": "text/x-python",
   "name": "python",
   "nbconvert_exporter": "python",
   "pygments_lexer": "ipython3",
   "version": "3.7.12"
  },
  "orig_nbformat": 4
 },
 "nbformat": 4,
 "nbformat_minor": 2
}
