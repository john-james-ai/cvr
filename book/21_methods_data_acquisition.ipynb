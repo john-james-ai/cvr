{
 "cells": [
  {
   "cell_type": "markdown",
   "metadata": {},
   "source": [
    "# Data Acquisition\n",
    "The Criteo Sponsored Search Conversion Log Dataset contains 90 days of live click and conversion traffic, twenty-three product features for over 16m observations. This preliminary segment will extract the data from the Criteo Labs website and stage it for analysis and downstream processing."
   ]
  },
  {
   "cell_type": "code",
   "execution_count": 2,
   "metadata": {
    "tags": [
     "hide-output",
     "remove-output"
    ]
   },
   "outputs": [],
   "source": [
    "# IMPORTS\n",
    "from myst_nb import glue\n",
    "import pandas as pd\n",
    "from datetime import datetime\n",
    "pd.set_option('display.width', 1000)\n",
    "pd.options.display.float_format = '{:,.2f}'.format\n",
    "\n",
    "from cvr.core.asset import AssetPassport\n",
    "from cvr.core.pipeline import DataPipelineBuilder, PipelineConfig\n",
    "from cvr.core.atelier import AtelierFabrique\n",
    "from cvr.utils.config import CriteoConfig \n",
    "from cvr.data import criteo_columns, criteo_dtypes\n",
    "from cvr.core.dataset import Dataset, DatasetFactory, DatasetWriter, Download, Extract, DatasetReader"
   ]
  },
  {
   "cell_type": "markdown",
   "metadata": {},
   "source": [
    "## Studio\n",
    "Studios provide self-contained environments and persistent storage to support experimentation. Let's instantiate a space for the raw data."
   ]
  },
  {
   "cell_type": "code",
   "execution_count": 3,
   "metadata": {},
   "outputs": [],
   "source": [
    "name = 'incept'\n",
    "description = 'là où tout commence'\n",
    "factory = AtelierFabrique()\n",
    "studio = factory.create(name=name, description=description, logging_level='info')"
   ]
  },
  {
   "cell_type": "markdown",
   "metadata": {},
   "source": [
    "## Datasource\n",
    "A configuration object contains the data source URL, file structure and local storage paths."
   ]
  },
  {
   "cell_type": "code",
   "execution_count": 4,
   "metadata": {},
   "outputs": [
    {
     "name": "stdout",
     "output_type": "stream",
     "text": [
      "\n",
      "\n",
      "                        Criteo Data Source Configuration                        \n",
      "                        ________________________________                        \n",
      "                         name : Criteo Sponsored Search Conversion Log Dataset\n",
      "                          url : http://go.criteo.net/criteo-research-search-conversion.tar.gz\n",
      "            download_filepath : data/external/criteo.tar.gz\n",
      "             extract_filepath : Criteo_Conversion_Search/CriteoSearchData\n",
      "                  destination : data/raw/criteo.csv\n",
      "                          sep : \\t\n",
      "                      missing : -1\n"
     ]
    }
   ],
   "source": [
    "source = CriteoConfig()\n",
    "source.print()"
   ]
  },
  {
   "cell_type": "markdown",
   "metadata": {},
   "source": [
    "## Data Pipeline\n",
    "A mini-data pipeline will download the data, performing some decompression, transform the data into  a Dataset object for profiling and store the object in our studio. We'll set up the tasks, configure our pipeline, then we are a go for ignition."
   ]
  },
  {
   "cell_type": "markdown",
   "metadata": {},
   "source": [
    "#### Download\n",
    "Download task will take ~ 3 minutes on a 500Mbps line. "
   ]
  },
  {
   "cell_type": "code",
   "execution_count": 5,
   "metadata": {},
   "outputs": [],
   "source": [
    "passport = {'aid': studio.next_aid, \n",
    "            'asset_type': 'task',\n",
    "            'name': 'download', \n",
    "            'description': 'Download Criteo Data from Criteo Labs', \n",
    "            'stage': 'raw'}\n",
    "download = Download(passport=passport,\n",
    "                    source=source.url,\n",
    "                    destination=source.download_filepath)"
   ]
  },
  {
   "cell_type": "markdown",
   "metadata": {},
   "source": [
    "#### Extract\n",
    "Extract contents from gzip archive"
   ]
  },
  {
   "cell_type": "code",
   "execution_count": 6,
   "metadata": {},
   "outputs": [],
   "source": [
    "passport = {'aid': studio.next_aid, \n",
    "         'name': 'extract', \n",
    "         'description': 'Extract Criteo Data from the Archive', \n",
    "         'stage': 'raw'}\n",
    "extract = Extract(passport=passport,\n",
    "                  download=source.download_filepath,\n",
    "                   extract=source.extract_filepath,\n",
    "                   destination=source.destination,\n",
    "                   colnames = criteo_columns,\n",
    "                   dtypes = criteo_dtypes)"
   ]
  },
  {
   "cell_type": "markdown",
   "metadata": {},
   "source": [
    "#### Create Dataset Object\n",
    "Create the Dataset object."
   ]
  },
  {
   "cell_type": "code",
   "execution_count": 7,
   "metadata": {},
   "outputs": [],
   "source": [
    "passport = AssetPassport(\n",
    "    aid=studio.next_aid,    \n",
    "    asset_type='dataset',\n",
    "    name='criteo',\n",
    "    description='Create Dataset object from Criteo Labs Conversion Logs Dataset (Raw)',\n",
    "    stage='raw'    \n",
    ")\n",
    "dataset_factory = DatasetFactory(passport=passport)"
   ]
  },
  {
   "cell_type": "markdown",
   "metadata": {},
   "source": [
    "#### Load Dataset Object\n",
    "Note, the name, stage, and dataset as asset type for future reference. We can use these labels or the asset identifier to obtain the data from the studio object."
   ]
  },
  {
   "cell_type": "code",
   "execution_count": 8,
   "metadata": {},
   "outputs": [],
   "source": [
    "dataset_writer = DatasetWriter(\n",
    "    passport=passport\n",
    ")"
   ]
  },
  {
   "cell_type": "markdown",
   "metadata": {},
   "source": [
    "#### DataPipeline Config\n",
    "Let's configure the pipeline with logging for progress monitoring."
   ]
  },
  {
   "cell_type": "code",
   "execution_count": 9,
   "metadata": {},
   "outputs": [],
   "source": [
    "config = PipelineConfig(\n",
    "    logger=studio.logger,       # Logging object\n",
    "    verbose=True,               # Print messages\n",
    "    force=False,                # If step already completed, don't force it.\n",
    "    progress=False,              # No progress bar\n",
    "    dataset_repo=studio.assets,   # dataset repository\n",
    "    directory=studio.assets_directory   # Assets directory for the studio\n",
    ")\n"
   ]
  },
  {
   "cell_type": "markdown",
   "metadata": {},
   "source": [
    "Lastly, the builder will create the data pipeline and we are a 'go' for ignition."
   ]
  },
  {
   "cell_type": "code",
   "execution_count": 10,
   "metadata": {},
   "outputs": [
    {
     "name": "stderr",
     "output_type": "stream",
     "text": [
      "\tStarted Extract run\n",
      "\tCompleted Extract run\n",
      "\tStarted DatasetFactory run\n",
      "\tCompleted DatasetFactory run\n",
      "\tStarted DatasetWriter run\n",
      "\tCompleted DatasetWriter run\n"
     ]
    }
   ],
   "source": [
    "builder = DataPipelineBuilder()\n",
    "\n",
    "pipeline = builder.set_config(config).set_passport(passport).add_task(download).add_task(extract).add_task(dataset_factory).add_task(dataset_writer).build().data_pipeline\n",
    "\n",
    "pipeline.run()"
   ]
  },
  {
   "cell_type": "markdown",
   "metadata": {},
   "source": [
    "Viola! Our dataset has been secured. Just to confirm, let's obtain it from the studio."
   ]
  },
  {
   "cell_type": "code",
   "execution_count": 11,
   "metadata": {},
   "outputs": [],
   "source": [
    "dataset = studio.get_asset(name='criteo', asset_type='dataset', stage='raw')"
   ]
  },
  {
   "cell_type": "code",
   "execution_count": 12,
   "metadata": {},
   "outputs": [
    {
     "name": "stdout",
     "output_type": "stream",
     "text": [
      "\n",
      "\n",
      "                                     criteo                                     \n",
      "                                  First 5 Rows                                  \n",
      "                                  ____________                                  \n",
      "   0    -1    -1.1  1598891820  -1.2   0.0                              -1.3  7E56C27BFF0305E788DA55A029EC4988                              -1.4                              -1.5  ...                              -1.9                             -1.10                             -1.11 -1.12 -1.13  57A1D462A03BD076E029CF9310C11FC5  A66DB02AC1726A8D79C518B7F7AB79F0                                              -1.14  E3DDEB04F8AFF944B11943BB57D2F620  493CFB4A87C50804C94C0CF76ABD19CD\n",
      "0  0 -1.00      -1  1598925284  0.00  0.00  4C90FD52FC53D2C1C205844CB69575AB  D7D1FB49049702BF6338894757E0D959                                -1  1B491180398E2F0390E6A588B3BCE291  ...                                -1                                -1                                -1    -1    -1  57A1D462A03BD076E029CF9310C11FC5  4C6C62203B4CE5AA6DFCF17F2604DC37  3CE3D1623D32FB2A901822910AF72A0B C83584C673752...  BD01BAFAE73CF38C403978BBB458300C  D0EBCD4402172AE3AA6FD21FB77BDE84\n",
      "1  0 -1.00      -1  1598892568 -1.00  0.00                                -1  7E56C27BFF0305E788DA55A029EC4988                                -1                                -1  ...                                -1                                -1                                -1    -1    -1                                -1                                -1                                                 -1  C4D189327BD87FEB3BF896DA716C6995  E8A8BEA257B19574C36108D0F0CDADE5\n",
      "2  0 -1.00      -1  1598891174 -1.00  0.00                                -1  D7D1FB49049702BF6338894757E0D959  B0E6BD3ACC0707BAB31CA2C2B08E652F                                -1  ...                                -1                                -1                                -1    -1    -1                                -1                                -1                                                 -1  440255DF62CFD36FBC0206828FC488E0  9703077BD18F430BD232A6F74931928E\n",
      "3  0 -1.00      -1  1598905245 -1.00  0.00                                -1  7E56C27BFF0305E788DA55A029EC4988                                -1                                -1  ...                                -1                                -1                                -1    -1    -1  57A1D462A03BD076E029CF9310C11FC5  5F4AFF2693601C2EFFE9AF2C1ED4222E                                                 -1  E3DDEB04F8AFF944B11943BB57D2F620  703B8CFC8D65A67BDF96595CCF992D27\n",
      "4  1 89.90  442485  1598929598  9.00 49.95  0CD76C7030D0900BE250C8D41703D180  D7D1FB49049702BF6338894757E0D959                                -1  A5D15FC386510762EC0DDFF54ABE6F94  ...  F791095E78AAC9F6A0C9D4948E6AA729  E970B6E90DCE5E7769360E6BD6532433  17B7ED5C6FE3EF8EC27330318AE867B9    -1    -1  D963E3BCE149E71F5D5E3000DCF68A9F  C806140F3AF11759BEF4E3B79B51588F  5678890DC6A51DC56FF0BCBD5A7E99AD 9EBC9598EC9B3...  743B1EE3A39E06D855A72B3B66D501D0  E94BA61ACE2488B7DA7920736B82DFBD\n",
      "\n",
      "[5 rows x 23 columns]\n"
     ]
    }
   ],
   "source": [
    "dataset.head()"
   ]
  },
  {
   "cell_type": "code",
   "execution_count": 13,
   "metadata": {},
   "outputs": [
    {
     "name": "stdout",
     "output_type": "stream",
     "text": [
      "\n",
      "\n",
      "                                 Asset Passport                                 \n",
      "      Create Dataset Object From Criteo Labs Conversion Logs Dataset (Raw)      \n",
      "      ____________________________________________________________________      \n",
      "                              aid : 0003\n",
      "                       asset_type : dataset\n",
      "                             name : criteo\n",
      "                      description : Create Dataset object from Criteo Labs Conversion Logs Dataset (Raw)\n",
      "                            stage : raw\n",
      "                          version : 1\n",
      "                         filepath : ateliers\\incept\\raw_dataset_criteo_v001.pkl\n"
     ]
    }
   ],
   "source": [
    "dataset.passport.print()"
   ]
  },
  {
   "cell_type": "markdown",
   "metadata": {},
   "source": [
    "We can obtrain this dataset from the studio 'incept' by its asset id (aid) number '0003' or by its name, data_type, and stage. Data acquisition. Complete."
   ]
  }
 ],
 "metadata": {
  "interpreter": {
   "hash": "ba6615e5a7b7e3657be37061ca9c48b0632f150281e10ebc62a462ee17016418"
  },
  "kernelspec": {
   "display_name": "Python 3.7.12 64-bit ('cvr': conda)",
   "language": "python",
   "name": "python3"
  },
  "language_info": {
   "codemirror_mode": {
    "name": "ipython",
    "version": 3
   },
   "file_extension": ".py",
   "mimetype": "text/x-python",
   "name": "python",
   "nbconvert_exporter": "python",
   "pygments_lexer": "ipython3",
   "version": "3.7.12"
  }
 },
 "nbformat": 4,
 "nbformat_minor": 2
}
