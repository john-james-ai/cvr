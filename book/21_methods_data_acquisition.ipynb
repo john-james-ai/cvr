{
 "cells": [
  {
   "cell_type": "markdown",
   "metadata": {},
   "source": [
    "# Data Acquisition\n",
    "Modeling the state-of-the-art from the 1970s, we'll obtain the data using the standard extract, transform and load (ETL) design pattern.  This will require a Criteo data source configuration, a series of tasks to perform the ETL operations, a pipeline to orchestrate the process, and a workspace into which the output Dataset object will be loaded. We'll import them now and introduce the modules enroute."
   ]
  },
  {
   "cell_type": "code",
   "execution_count": 1,
   "metadata": {},
   "outputs": [],
   "source": [
    "from myst_nb import glue\n",
    "import pandas as pd\n",
    "pd.set_option('display.width', 1000)\n",
    "pd.options.display.float_format = '{:,.2f}'.format\n",
    "\n",
    "from cvr.core.workspace import Workspace, WorkspaceManager\n",
    "from cvr.utils.config import CriteoConfig \n",
    "from cvr.data.etl import Extract, TransformETL, LoadDataset\n",
    "from cvr.core.pipeline import DataPipeline, DataPipelineBuilder\n"
   ]
  },
  {
   "cell_type": "markdown",
   "metadata": {},
   "source": [
    "## Workspace\n",
    "Before we set up the ETL pipeline, we will need to establish a workspace for it. A Workspace object is essentially a container for Datasets, Models, and Experiments. Singleton class WorkspaceManager allows us to create and manage Workspace objects. "
   ]
  },
  {
   "cell_type": "code",
   "execution_count": 2,
   "metadata": {},
   "outputs": [],
   "source": [
    "wsm = WorkspaceManager()\n",
    "vesuvio = wsm.create_workspace(name=\"Vesuvio\", description=\"Vesuvio Workspace\", current=True)"
   ]
  },
  {
   "cell_type": "markdown",
   "metadata": {},
   "source": [
    "Workspace Vesuvio has been created and is now the 'current' workspace. Datasets, Models, and Experiments will be contained within this workspace until another workspace is created and/or set current."
   ]
  },
  {
   "cell_type": "markdown",
   "metadata": {},
   "source": [
    "## Data Source\n",
    "The CriteoConfig object packages the URL, file structure, and local destination file path information for the Criteo data source. For illustrative purposes, the CriteoConfig on this machine is shown below."
   ]
  },
  {
   "cell_type": "code",
   "execution_count": 3,
   "metadata": {},
   "outputs": [
    {
     "name": "stdout",
     "output_type": "stream",
     "text": [
      "\n",
      "\n",
      "                        Criteo Data Source Configuration                        \n",
      "                        ________________________________                        \n",
      "                          name : Criteo Sponsored Search Conversion Log Dataset\n",
      "                        source : http://go.criteo.net/criteo-research-search-conversion.tar.gz\n",
      "                   destination : data\\external\\criteo.tar.gz\n",
      "              filepath_extract : Criteo_Conversion_Search/CriteoSearchData\n",
      "                  filepath_raw : raw\\criteo.csv\n",
      "                     workspace : root\n",
      "                           sep : \\t\n",
      "                       missing : -1\n"
     ]
    }
   ],
   "source": [
    "config = CriteoConfig()\n",
    "config.print()"
   ]
  },
  {
   "cell_type": "markdown",
   "metadata": {},
   "source": [
    "## Data Pipeline Steps\n",
    "Our pipeline consists of three steps, Extract, TransformETL and LoadDataset described below. \n",
    "\n",
    "| Step | Module       | Description                                                                     |\n",
    "|------|--------------|---------------------------------------------------------------------------------|\n",
    "| 1    | Extract      | Downloads the source data into a local raw data directory                       |\n",
    "| 2    | TransformETL | Transforms the raw data into a Dataset object and performs basic preprocessing. |\n",
    "| 3    | LoadDataset  | Loads the Dataset object into our current workspace.                            |\n",
    "\n",
    "The Extract step takes the CriteoConfig data source configuration object as input and produces our raw data. Transform ETL performs two basic preprocessing a priori based upon the description of the data provided by Criteo Labs. First, we convert the missing values indicator (-1) to NaNs. Second, we convert the categorical variables to the pandas' category data type for computation and space efficiency purposes. The pipeline tasks are instantiated below. Finally, LoadDataset loads the preprocessed Dataset object into our current workspace."
   ]
  },
  {
   "cell_type": "code",
   "execution_count": 4,
   "metadata": {},
   "outputs": [],
   "source": [
    "extract = Extract(config=config, chunk_size=20)\n",
    "transform=TransformETL(value=[-1,\"-1\"])\n",
    "load = LoadDataset()"
   ]
  },
  {
   "cell_type": "markdown",
   "metadata": {},
   "source": [
    "## Data Pipeline Builder\n",
    "The pipeline is contructed via the DataPipelineBuilder, parameterized by the name and stage for the final Dataset object it produces. "
   ]
  },
  {
   "cell_type": "code",
   "execution_count": 5,
   "metadata": {},
   "outputs": [],
   "source": [
    "builder = DataPipelineBuilder()\n",
    "builder.set_name(\"criteo\").set_stage(\"preprocessed\").set_force(True).set_verbose(True) \n",
    "builder.add_task(extract)\n",
    "builder.add_task(transform)\n",
    "builder.add_task(load)\n",
    "builder.build()\n",
    "pipeline = builder.pipeline"
   ]
  },
  {
   "cell_type": "markdown",
   "metadata": {},
   "source": [
    "\n",
    "## ETL Pipeline Execution\n",
    "The dataset is approximately 6.5 GB; making this ETL a network and IO intensive process. Estimated processing time: 12 minutes. "
   ]
  },
  {
   "cell_type": "code",
   "execution_count": 6,
   "metadata": {},
   "outputs": [
    {
     "name": "stderr",
     "output_type": "stream",
     "text": [
      "Started criteo\n",
      "\tDownloading 1910.08 Mb in 20 Mb chunks\n",
      "\n",
      "\tChunk #10: 10.47 percent downloaded at 3 Mbps\n",
      "\tChunk #20: 20.94 percent downloaded at 3 Mbps\n",
      "\tChunk #30: 31.41 percent downloaded at 3 Mbps\n",
      "\tChunk #40: 41.88 percent downloaded at 3 Mbps\n",
      "\tChunk #50: 52.35 percent downloaded at 3 Mbps\n",
      "\tChunk #60: 62.82 percent downloaded at 3 Mbps\n",
      "\tChunk #70: 73.3 percent downloaded at 3 Mbps\n",
      "\tChunk #80: 83.77 percent downloaded at 3 Mbps\n",
      "\tChunk #90: 94.24 percent downloaded at 2 Mbps\n",
      "\n",
      "\tDownload complete! 1910.081 Mb downloaded in 97 20 Mb chunks.\n",
      "\tDecompression initiated.\n",
      "\tDecompression Complete! 6129.08 Mb Extracted.\n",
      "Completed criteo\n"
     ]
    },
    {
     "name": "stdout",
     "output_type": "stream",
     "text": [
      "\n",
      "\n",
      "                          DataPipeline criteo Summary                           \n",
      "                          ___________________________                           \n",
      "           Task                      Start                        End  Minutes   Status\n",
      "0       Extract 2022-01-25 18:54:48.889947 2022-01-25 19:12:26.990696    17.64  200: OK\n",
      "1  TransformETL 2022-01-25 19:12:26.994700 2022-01-25 19:12:43.938661     0.28  200: OK\n",
      "2   LoadDataset 2022-01-25 19:12:43.942662 2022-01-25 19:13:08.104044     0.40  200: OK\n"
     ]
    }
   ],
   "source": [
    "dataset = pipeline.run()\n",
    "pipeline.summary"
   ]
  },
  {
   "cell_type": "markdown",
   "metadata": {},
   "source": [
    "Our pipeline appears to have run successfully. Let's check the task summaries."
   ]
  },
  {
   "cell_type": "code",
   "execution_count": 7,
   "metadata": {},
   "outputs": [
    {
     "name": "stdout",
     "output_type": "stream",
     "text": [
      "\n",
      "\n",
      "                              Extract Task Summary                              \n",
      "                      Dataset: Criteo / Preprocessed Stage                      \n",
      "                      ____________________________________                      \n",
      "                            Status Code : 200\n",
      "                           Content Type : application/x-gzip\n",
      "                          Last Modified : Wed, 08 Apr 2020 13:39:53 GMT\n",
      "                    Content Length (Mb) : 1,910.081\n",
      "                        Chunk Size (Mb) : 20\n",
      "                      Chunks Downloaded : 97\n",
      "                        Downloaded (Mb) : 1,910.081\n",
      "                                   Mbps : 2.899\n",
      "                    Size Extracted (Mb) : 6,129.08\n",
      "                                  Start : 2022-01-25 18:54:48.889947\n",
      "                                    End : 2022-01-25 19:12:26.990696\n",
      "                               Duration : 0:17:38.100749\n",
      "                                 Status : 200: OK\n",
      "                            Status Date : 2022-01-25\n",
      "                            Status Time : 19:12:26\n"
     ]
    }
   ],
   "source": [
    "xsum = extract.summary"
   ]
  },
  {
   "cell_type": "code",
   "execution_count": 13,
   "metadata": {},
   "outputs": [
    {
     "data": {
      "application/papermill.record/text/plain": "1910.081"
     },
     "metadata": {
      "scrapbook": {
       "mime_prefix": "application/papermill.record/",
       "name": "etl_downloaded"
      }
     },
     "output_type": "display_data"
    },
    {
     "data": {
      "application/papermill.record/text/plain": "20"
     },
     "metadata": {
      "scrapbook": {
       "mime_prefix": "application/papermill.record/",
       "name": "etl_chunk_size"
      }
     },
     "output_type": "display_data"
    },
    {
     "data": {
      "application/papermill.record/text/plain": "97"
     },
     "metadata": {
      "scrapbook": {
       "mime_prefix": "application/papermill.record/",
       "name": "etl_chunks_downloaded"
      }
     },
     "output_type": "display_data"
    },
    {
     "data": {
      "application/papermill.record/text/plain": "2.899"
     },
     "metadata": {
      "scrapbook": {
       "mime_prefix": "application/papermill.record/",
       "name": "etl_speed"
      }
     },
     "output_type": "display_data"
    },
    {
     "data": {
      "application/papermill.record/text/plain": "6129.08"
     },
     "metadata": {
      "scrapbook": {
       "mime_prefix": "application/papermill.record/",
       "name": "etl_size"
      }
     },
     "output_type": "display_data"
    },
    {
     "data": {
      "application/papermill.record/text/plain": "17.64"
     },
     "metadata": {
      "scrapbook": {
       "mime_prefix": "application/papermill.record/",
       "name": "etl_duration"
      }
     },
     "output_type": "display_data"
    }
   ],
   "source": [
    "_ = glue(\"etl_downloaded\",xsum[\"Content Length (Mb)\"], display=False)\n",
    "_ = glue(\"etl_chunk_size\", xsum[\"Chunk Size (Mb)\"], display=False)\n",
    "_ = glue(\"etl_chunks_downloaded\", xsum[\"Chunks Downloaded\"], display=False)\n",
    "_ = glue(\"etl_speed\", xsum[\"Mbps\"], display=False)\n",
    "_ = glue(\"etl_size\", xsum[\"Size Extracted (Mb)\"], display=False)\n",
    "_ = glue(\"etl_duration\", round(xsum[\"Duration\"].total_seconds() / 60,2), display=False)"
   ]
  },
  {
   "cell_type": "markdown",
   "metadata": {},
   "source": [
    "From this we see that we've downloaded {glue:}`etl_downloaded` Mb in about {glue:}`etl_duration` minutes in {glue:}`etl_chunks_downloaded`  {glue:}`etl_chunk_size` Mb chunks with an average throughput of {glue:}`etl_speed` Mbps. Next, we have the transform step."
   ]
  },
  {
   "cell_type": "code",
   "execution_count": 9,
   "metadata": {},
   "outputs": [
    {
     "name": "stdout",
     "output_type": "stream",
     "text": [
      "\n",
      "\n",
      "                           TransformETL Task Summary                            \n",
      "        Missing Values Replacement: Dataset Criteo / Preprocessed Stage         \n",
      "        _______________________________________________________________         \n",
      "                       Before     After\n",
      "sale                        0         0\n",
      "sales_amount                0  14262913\n",
      "conversion_time_delay       0  14268293\n",
      "click_ts                    0         0\n",
      "n_clicks_1week              0   6744427\n",
      "product_price               0         0\n",
      "product_age_group           0  11760058\n",
      "device_type                 0      3032\n",
      "audience_id                 0  11502018\n",
      "product_gender              0  11654195\n",
      "product_brand               0   7241560\n",
      "product_category_1          0   6142756\n",
      "product_category_2          0   6151249\n",
      "product_category_3          0   7342676\n",
      "product_category_4          0  10494308\n",
      "product_category_5          0  14595054\n",
      "product_category_6          0  15717150\n",
      "product_category_7          0  15995414\n",
      "product_country             0   3834802\n",
      "product_id                  0   3828338\n",
      "product_title           65417   6208174\n",
      "partner_id                  0         0\n",
      "user_id                     0         0\n",
      "\n",
      "\n",
      "                           TransformETL Task Summary                            \n",
      "                                                                                \n",
      "                           _________________________                            \n",
      "          Missing      Total   Pct\n",
      "Before      65417  367899582  0.02\n",
      "After   167746417  367899582 45.60\n"
     ]
    }
   ],
   "source": [
    "_ = transform.summary"
   ]
  },
  {
   "cell_type": "markdown",
   "metadata": {},
   "source": [
    "Replacing the missing value indicators with NaNs will simplify data processing and analysis. It does reveal; however, signficant data sparsity. Notably, diversity and sparsity in observations are common challenges in marketing and customer analytics. \n",
    "\n",
    "Lastly, we have the load step."
   ]
  },
  {
   "cell_type": "code",
   "execution_count": 10,
   "metadata": {},
   "outputs": [
    {
     "name": "stdout",
     "output_type": "stream",
     "text": [
      "\n",
      "\n",
      "                            LoadDataset Task Summary                            \n",
      "                      Dataset: Criteo / Preprocessed Stage                      \n",
      "                      ____________________________________                      \n",
      "                             AID : preprocessed_criteo\n",
      "                       Workspace : Vesuvio\n",
      "                    Dataset Name : criteo\n",
      "                           Stage : preprocessed\n",
      "                        filepath : workspaces\\Vesuvio\\Dataset\\preprocessed\\Vesuvio_Dataset_preprocessed_criteo.pkl\n",
      "                           Start : 2022-01-25 19:12:43.942662\n",
      "                             End : 2022-01-25 19:13:08.104044\n",
      "                        Duration : 0:00:24.161382\n",
      "                          Status : 200: OK\n",
      "                     Status Date : 2022-01-25\n",
      "                     Status Time : 19:13:08\n"
     ]
    }
   ],
   "source": [
    "_ = load.summary"
   ]
  },
  {
   "cell_type": "markdown",
   "metadata": {},
   "source": [
    "We'll note the name and stage for this dataset, which we will use to obtain the Dataset object from the workspace. Before closing this section, we'll demonstrate how an object can be stored and retrieved from our current workspace, 'vesuvio'."
   ]
  },
  {
   "cell_type": "code",
   "execution_count": 11,
   "metadata": {},
   "outputs": [
    {
     "name": "stdout",
     "output_type": "stream",
     "text": [
      "\n",
      "\n",
      "                                 Dataset criteo                                 \n",
      "                                 ______________                                 \n",
      "<class 'pandas.core.frame.DataFrame'>\n",
      "RangeIndex: 15995634 entries, 0 to 15995633\n",
      "Data columns (total 23 columns):\n",
      " #   Column                 Non-Null Count     Dtype   \n",
      "---  ------                 --------------     -----   \n",
      " 0   sale                   15995634 non-null  category\n",
      " 1   sales_amount           1732721 non-null   float64 \n",
      " 2   conversion_time_delay  1727341 non-null   float64 \n",
      " 3   click_ts               15995634 non-null  float64 \n",
      " 4   n_clicks_1week         9251207 non-null   float64 \n",
      " 5   product_price          15995634 non-null  float64 \n",
      " 6   product_age_group      4235576 non-null   category\n",
      " 7   device_type            15992602 non-null  category\n",
      " 8   audience_id            4493616 non-null   category\n",
      " 9   product_gender         4341439 non-null   category\n",
      " 10  product_brand          8754074 non-null   category\n",
      " 11  product_category_1     9852878 non-null   category\n",
      " 12  product_category_2     9844385 non-null   category\n",
      " 13  product_category_3     8652958 non-null   category\n",
      " 14  product_category_4     5501326 non-null   category\n",
      " 15  product_category_5     1400580 non-null   category\n",
      " 16  product_category_6     278484 non-null    category\n",
      " 17  product_category_7     220 non-null       category\n",
      " 18  product_country        12160832 non-null  category\n",
      " 19  product_id             12167296 non-null  category\n",
      " 20  product_title          9787460 non-null   object  \n",
      " 21  partner_id             15995634 non-null  category\n",
      " 22  user_id                15995634 non-null  category\n",
      "dtypes: category(17), float64(5), object(1)\n",
      "memory usage: 1.3+ GB\n"
     ]
    }
   ],
   "source": [
    "dataset = vesuvio.get_dataset(name='criteo', stage='preprocessed')\n",
    "dataset.info()"
   ]
  },
  {
   "cell_type": "markdown",
   "metadata": {},
   "source": [
    "Viola! This closes the data acquisition portion of this series. In the next section, we will get our first glimpses of the data from a profiling and data quality perspective."
   ]
  }
 ],
 "metadata": {
  "interpreter": {
   "hash": "ba6615e5a7b7e3657be37061ca9c48b0632f150281e10ebc62a462ee17016418"
  },
  "kernelspec": {
   "display_name": "Python 3.7.12 64-bit ('cvr': conda)",
   "language": "python",
   "name": "python3"
  },
  "language_info": {
   "codemirror_mode": {
    "name": "ipython",
    "version": 3
   },
   "file_extension": ".py",
   "mimetype": "text/x-python",
   "name": "python",
   "nbconvert_exporter": "python",
   "pygments_lexer": "ipython3",
   "version": "3.7.12"
  },
  "orig_nbformat": 4
 },
 "nbformat": 4,
 "nbformat_minor": 2
}
