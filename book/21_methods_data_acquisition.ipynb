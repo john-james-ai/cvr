{
 "cells": [
  {
   "cell_type": "markdown",
   "metadata": {},
   "source": [
    "# Data Acquisition\n",
    "Modeling the state-of-the-art from the 1970s, we'll obtain the data using the standard extract, transform and load (ETL) design pattern.  This will require a Criteo data source configuration, a series of tasks to perform the ETL operations and a pipeline to orchestrate the process. We'll import them now and briefly introduce the modules en route."
   ]
  },
  {
   "cell_type": "code",
   "execution_count": 18,
   "metadata": {},
   "outputs": [],
   "source": [
    "from cvr.utils.config import CriteoConfig \n",
    "from cvr.data.etl import Extract, TransformETL, LoadDataset\n",
    "from cvr.core.pipeline import DataPipeline, DataPipelineBuilder\n",
    "from cvr.utils.config import WorkspaceConfig\n",
    "from cvr.core.workspace import Workspace\n",
    "import pandas as pd\n",
    "pd.set_option('display.width', 1000)\n",
    "pd.options.display.float_format = '{:,.2f}'.format\n"
   ]
  },
  {
   "cell_type": "markdown",
   "metadata": {},
   "source": [
    "## Data Source\n",
    "CriteoConfig packages the URL, file structure, and local destination file path information for the Criteo data source. For illustrative purposes, the CriteoConfig on this machine is shown below."
   ]
  },
  {
   "cell_type": "code",
   "execution_count": 2,
   "metadata": {},
   "outputs": [
    {
     "name": "stdout",
     "output_type": "stream",
     "text": [
      "\n",
      "\n",
      "                        Criteo Data Source Configuration                        \n",
      "                        ________________________________                        \n",
      "                          name : Criteo Sponsored Search Conversion Log Dataset\n",
      "                        source : http://go.criteo.net/criteo-research-search-conversion.tar.gz\n",
      "                   destination : data\\external\\criteo.tar.gz\n",
      "              filepath_extract : Criteo_Conversion_Search/CriteoSearchData\n",
      "                  filepath_raw : raw\\criteo.csv\n",
      "                     workspace : root\n",
      "                           sep : \\t\n",
      "                       missing : -1\n"
     ]
    }
   ],
   "source": [
    "config = CriteoConfig()\n",
    "config.print()"
   ]
  },
  {
   "cell_type": "markdown",
   "metadata": {},
   "source": [
    "## Data Pipeline Steps\n",
    "Our three workers, Extract, TransformETL and LoadDataset are described below. \n",
    "\n",
    "| Step | Module       | Description                                                                     |\n",
    "|------|--------------|---------------------------------------------------------------------------------|\n",
    "| 1    | Extract      | Downloads the source data into a local raw data directory                       |\n",
    "| 2    | TransformETL | Transform the raw data into a Dataset object and perform basic   preprocessing. |\n",
    "| 3    | LoadDataset  | Load the Dataset object into our local workspace.                               |\n",
    "\n",
    "Two basic preprocessing steps are taken a priori based upon the description of the data provided by Criteo Labs. First, we convert the missing values indicator (-1) to NaNs. Second, we convert non-numeric columns to the pandas' category data type for computational and space efficiency purposes. Let's instantiate our tasks."
   ]
  },
  {
   "cell_type": "code",
   "execution_count": 3,
   "metadata": {},
   "outputs": [],
   "source": [
    "extract = Extract(config=config)\n",
    "transform=TransformETL(value=[-1,\"-1\"])\n",
    "load = LoadDataset()"
   ]
  },
  {
   "cell_type": "markdown",
   "metadata": {},
   "source": [
    "## Data Pipeline Builder\n",
    "Next, we will construct a DataPipelineBuilder which will produce our ETL pipeline. The pipeline, and the Dataset it produces, are designated a name, in this case 'criteo', and a stage such as 'preprocessing'. An underscore concatenation of name and stage make up the Dataset object's asset identifier, or AID. (id was taken, apparently, is a python built-in function). Using the AID, we can store and retrieve our Dataset objects from the workspace. "
   ]
  },
  {
   "cell_type": "code",
   "execution_count": 4,
   "metadata": {},
   "outputs": [],
   "source": [
    "builder = DataPipelineBuilder()\n",
    "builder.create()\n",
    "builder.set_name(\"criteo\").set_stage(\"preprocessed\").set_force(True).set_verbose(True) \n",
    "builder.add_task(extract)\n",
    "builder.add_task(transform)\n",
    "builder.add_task(load)\n",
    "builder.build()\n",
    "pipeline = builder.pipeline"
   ]
  },
  {
   "cell_type": "markdown",
   "metadata": {},
   "source": [
    "\n",
    "## ETL Pipeline Execution\n",
    "We've instiated the builder and added the tasks. Our dataset is slightly under 6.5 GB; making this ETL a network and IO intensive process estimated to complete in around 12 minutes. "
   ]
  },
  {
   "cell_type": "code",
   "execution_count": 5,
   "metadata": {},
   "outputs": [
    {
     "name": "stderr",
     "output_type": "stream",
     "text": [
      "Started criteo\n",
      "\tDownloading 1910.08 Mb in 10 Mb chunks\n",
      "\n",
      "\tChunk #20: 10.47 percent downloaded at 4 Mbps\n",
      "\tChunk #40: 20.94 percent downloaded at 4 Mbps\n",
      "\tChunk #60: 31.41 percent downloaded at 4 Mbps\n",
      "\tChunk #80: 41.88 percent downloaded at 4 Mbps\n",
      "\tChunk #100: 52.35 percent downloaded at 4 Mbps\n",
      "\tChunk #120: 62.82 percent downloaded at 4 Mbps\n",
      "\tChunk #140: 73.3 percent downloaded at 4 Mbps\n",
      "\tChunk #160: 83.77 percent downloaded at 4 Mbps\n",
      "\tChunk #180: 94.24 percent downloaded at 4 Mbps\n",
      "\n",
      "\tDownload complete! 1910.081 Mb downloaded in 193 10 Mb chunks.\n",
      "\tDecompression initiated.\n",
      "\tSampling dataset initiated.\n",
      "\tSampling Complete! 10000.0 Rows Sampled.\n",
      "\tDecompression Complete! 6129.08 Mb Extracted.\n",
      "Completed criteo\n"
     ]
    }
   ],
   "source": [
    "dataset = pipeline.run()"
   ]
  },
  {
   "cell_type": "code",
   "execution_count": 6,
   "metadata": {},
   "outputs": [
    {
     "name": "stdout",
     "output_type": "stream",
     "text": [
      "\n",
      "\n",
      "                          DataPipeline criteo Summary                           \n",
      "                          ___________________________                           \n",
      "           Task                      Start                        End  Minutes   Status\n",
      "0       Extract 2022-01-24 11:53:06.306797 2022-01-24 12:02:09.968361     9.06  200: OK\n",
      "1  TransformETL 2022-01-24 12:02:09.970326 2022-01-24 12:02:10.009112     0.00  200: OK\n",
      "2   LoadDataset 2022-01-24 12:02:10.011130 2022-01-24 12:02:10.042105     0.00  200: OK\n"
     ]
    }
   ],
   "source": [
    "pipeline.summary"
   ]
  },
  {
   "cell_type": "markdown",
   "metadata": {},
   "source": [
    "Our pipeline appears to have run successfully. Let's check the task summaries."
   ]
  },
  {
   "cell_type": "code",
   "execution_count": 7,
   "metadata": {},
   "outputs": [
    {
     "name": "stdout",
     "output_type": "stream",
     "text": [
      "\n",
      "\n",
      "                              Extract Task Summary                              \n",
      "                      Dataset: Criteo / Preprocessed Stage                      \n",
      "                      ____________________________________                      \n",
      "                            Status Code : 200\n",
      "                           Content Type : application/x-gzip\n",
      "                          Last Modified : Wed, 08 Apr 2020 13:39:53 GMT\n",
      "                    Content Length (Mb) : 1,910.081\n",
      "                        Chunk Size (Mb) : 10\n",
      "                      Chunks Downloaded : 193\n",
      "                        Downloaded (Mb) : 1,910.081\n",
      "                                   Mbps : 4.204\n",
      "                    Size Extracted (Mb) : 6,129.08\n",
      "           Sampled Dataset Observations : 10,000.0\n",
      "              Sampled Dataset Size (Mb) : 3.48\n",
      "                                  Start : 2022-01-24 11:53:06.306797\n",
      "                                    End : 2022-01-24 12:02:09.968361\n",
      "                               Duration : 0:09:03.661564\n",
      "                                 Status : 200: OK\n",
      "                            Status Date : 2022-01-24\n",
      "                            Status Time : 12:02:09\n"
     ]
    }
   ],
   "source": [
    "xsum = extract.summary"
   ]
  },
  {
   "cell_type": "code",
   "execution_count": null,
   "metadata": {},
   "outputs": [],
   "source": [
    "_ = glue(\"downloaded\",xsum[\"Content Length (Mb)\"])\n",
    "_ = glue(\"size\", xsum[\"Size Extracted (Mb)\"])"
   ]
  },
  {
   "cell_type": "markdown",
   "metadata": {},
   "source": [
    "From this we see that we've downloaded slightly over 6 GB in 9 minutes using 193 10 Mb chunks with an average throughput of 4 Mbps. Next, we have the transform step."
   ]
  },
  {
   "cell_type": "code",
   "execution_count": 8,
   "metadata": {},
   "outputs": [
    {
     "name": "stdout",
     "output_type": "stream",
     "text": [
      "\n",
      "\n",
      "                           TransformETL Task Summary                            \n",
      "        Missing Values Replacement: Dataset Criteo / Preprocessed Stage         \n",
      "        _______________________________________________________________         \n",
      "                       Before  After\n",
      "sale                        0      0\n",
      "sales_amount                0   8388\n",
      "conversion_time_delay       0   8392\n",
      "click_ts                    0      0\n",
      "n_clicks_1week              0   5300\n",
      "product_price               0      0\n",
      "product_age_group           0   8185\n",
      "device_type                 0      9\n",
      "audience_id                 0   7191\n",
      "product_gender              0   8206\n",
      "product_brand               0   7252\n",
      "product_category_1          0   5214\n",
      "product_category_2          0   5219\n",
      "product_category_3          0   5710\n",
      "product_category_4          0   7471\n",
      "product_category_5          0   9199\n",
      "product_category_6          0   9921\n",
      "product_category_7          0   9999\n",
      "product_country             0   1543\n",
      "product_id                  0   1543\n",
      "product_title              28   5242\n",
      "partner_id                  0      0\n",
      "user_id                     0      0\n",
      "\n",
      "\n",
      "                           TransformETL Task Summary                            \n",
      "                                                                                \n",
      "                           _________________________                            \n",
      "        Missing   Total   Pct\n",
      "Before       28  230000  0.01\n",
      "After    113984  230000 49.56\n"
     ]
    }
   ],
   "source": [
    "_ = transform.summary"
   ]
  },
  {
   "cell_type": "markdown",
   "metadata": {},
   "source": [
    "Replacing the missing value indicators with NaNs will simplify data processing and analysis. It does reveal; however, that nearly half of the data are missing. Notably, diversity and sparsity in observations are common challenges in marketing and customer analytics. Lastly, we have the load step."
   ]
  },
  {
   "cell_type": "code",
   "execution_count": 10,
   "metadata": {},
   "outputs": [
    {
     "name": "stdout",
     "output_type": "stream",
     "text": [
      "\n",
      "\n",
      "                            LoadDataset Task Summary                            \n",
      "                      Dataset: Criteo / Preprocessed Stage                      \n",
      "                      ____________________________________                      \n",
      "                             AID : preprocessed_criteo\n",
      "                       Workspace : vesuvio\n",
      "                    Dataset Name : criteo\n",
      "                           Stage : preprocessed\n",
      "                        filepath : workspaces\\vesuvio\\Dataset\\preprocessed\\vesuvio_Dataset_preprocessed_criteo.pkl\n",
      "                           Start : 2022-01-24 12:02:10.011130\n",
      "                             End : 2022-01-24 12:02:10.042105\n",
      "                        Duration : 0:00:00.030975\n",
      "                          Status : 200: OK\n",
      "                     Status Date : 2022-01-24\n",
      "                     Status Time : 12:02:10\n"
     ]
    }
   ],
   "source": [
    "_ = load.summary"
   ]
  },
  {
   "cell_type": "markdown",
   "metadata": {},
   "source": [
    "We'll note the name and stage for this dataset, which we will use to obtain the Dataset object from the workspace. Before closing this section, we'll demonstrate how an object can be stored and retrieved from a workspace.\n",
    "\n",
    "## Workspaces\n",
    "Workspaces are parameterized by some storage space, a dataset of a particular sample size, an asset manager to persist Datasets and the data itself. To inspect or change the current workspace, we instantiate a WorkspaceConfig object as follows:"
   ]
  },
  {
   "cell_type": "code",
   "execution_count": 15,
   "metadata": {},
   "outputs": [
    {
     "data": {
      "text/plain": [
       "'full_monte'"
      ]
     },
     "execution_count": 15,
     "metadata": {},
     "output_type": "execute_result"
    }
   ],
   "source": [
    "config = WorkspaceConfig()\n",
    "config.get_workspace()"
   ]
  },
  {
   "cell_type": "markdown",
   "metadata": {},
   "source": [
    "Alas we have a name. Each workspace has a designated sample size for the seeding dataset. "
   ]
  },
  {
   "cell_type": "code",
   "execution_count": 16,
   "metadata": {},
   "outputs": [
    {
     "data": {
      "text/plain": [
       "1.0"
      ]
     },
     "execution_count": 16,
     "metadata": {},
     "output_type": "execute_result"
    }
   ],
   "source": [
    "config.get_sample_size()"
   ]
  },
  {
   "cell_type": "markdown",
   "metadata": {},
   "source": [
    "A sample size of 1.0 simply means the full dataset. To commit a dataset to the Workspace, we launch a Workspace object using the workspace name 'full_monthe' and save it as follows."
   ]
  },
  {
   "cell_type": "code",
   "execution_count": 20,
   "metadata": {},
   "outputs": [
    {
     "data": {
      "text/plain": [
       "'workspaces\\\\full_month\\\\Dataset\\\\preprocessed\\\\full_month_Dataset_preprocessed_criteo.pkl'"
      ]
     },
     "execution_count": 20,
     "metadata": {},
     "output_type": "execute_result"
    }
   ],
   "source": [
    "workspace = Workspace('full_month')\n",
    "workspace.add_dataset(dataset)"
   ]
  },
  {
   "cell_type": "markdown",
   "metadata": {},
   "source": [
    "To retrieve the dataset from the workspace, we pass the name and stage to the appropriate method as follows."
   ]
  },
  {
   "cell_type": "code",
   "execution_count": 23,
   "metadata": {},
   "outputs": [
    {
     "name": "stdout",
     "output_type": "stream",
     "text": [
      "\n",
      "\n",
      "                                 Dataset criteo                                 \n",
      "                                 ______________                                 \n",
      "<class 'pandas.core.frame.DataFrame'>\n",
      "RangeIndex: 10000 entries, 0 to 9999\n",
      "Data columns (total 23 columns):\n",
      " #   Column                 Non-Null Count  Dtype   \n",
      "---  ------                 --------------  -----   \n",
      " 0   sale                   10000 non-null  category\n",
      " 1   sales_amount           1612 non-null   float64 \n",
      " 2   conversion_time_delay  1608 non-null   float64 \n",
      " 3   click_ts               10000 non-null  float64 \n",
      " 4   n_clicks_1week         4700 non-null   float64 \n",
      " 5   product_price          10000 non-null  float64 \n",
      " 6   product_age_group      1815 non-null   category\n",
      " 7   device_type            9991 non-null   category\n",
      " 8   audience_id            2809 non-null   category\n",
      " 9   product_gender         1794 non-null   category\n",
      " 10  product_brand          2748 non-null   category\n",
      " 11  product_category_1     4786 non-null   category\n",
      " 12  product_category_2     4781 non-null   category\n",
      " 13  product_category_3     4290 non-null   category\n",
      " 14  product_category_4     2529 non-null   category\n",
      " 15  product_category_5     801 non-null    category\n",
      " 16  product_category_6     79 non-null     category\n",
      " 17  product_category_7     1 non-null      category\n",
      " 18  product_country        8457 non-null   category\n",
      " 19  product_id             8457 non-null   category\n",
      " 20  product_title          4758 non-null   object  \n",
      " 21  partner_id             10000 non-null  category\n",
      " 22  user_id                10000 non-null  category\n",
      "dtypes: category(17), float64(5), object(1)\n",
      "memory usage: 858.9+ KB\n"
     ]
    }
   ],
   "source": [
    "ds2 = workspace.get_dataset(name='criteo', stage='preprocessed')\n",
    "ds2.info()"
   ]
  },
  {
   "cell_type": "markdown",
   "metadata": {},
   "source": [
    "Viola! This closes the data acquisition portion of this series. In the next section, we get our first glimpses of the data from a profiling and data quality perspective."
   ]
  }
 ],
 "metadata": {
  "interpreter": {
   "hash": "ba6615e5a7b7e3657be37061ca9c48b0632f150281e10ebc62a462ee17016418"
  },
  "kernelspec": {
   "display_name": "Python 3.7.12 64-bit ('cvr': conda)",
   "language": "python",
   "name": "python3"
  },
  "language_info": {
   "codemirror_mode": {
    "name": "ipython",
    "version": 3
   },
   "file_extension": ".py",
   "mimetype": "text/x-python",
   "name": "python",
   "nbconvert_exporter": "python",
   "pygments_lexer": "ipython3",
   "version": "3.7.12"
  },
  "orig_nbformat": 4
 },
 "nbformat": 4,
 "nbformat_minor": 2
}
