{
 "cells": [
  {
   "cell_type": "markdown",
   "id": "ffefdca9",
   "metadata": {},
   "source": [
    "# Data\n",
    "The Criteo Sponsored Search Conversion Log Dataset is provided by Criteo Labs {cite}`tallisReactingVariationsProduct2018` and contains a 90-day sample of logs obtained from Criteo Predictive Search (CPS). Each row in the dataset represents an action (i.e. click) performed by the user on a product related advertisement. The product advertisement was shown to the user, post the user expressing an intent via an online search engine.  Each row in the dataset, contains product characteristics (age, brand, gender, price), time of the click ( subject to uniform shift), user characteristics and device information. The logs also contain information on whether the clicks eventually led to a conversion (product was bought) within a 30 day window and the time between click and the conversion.\n",
    "\n",
    "**Delimited**: \\t (tab separated)\n",
    "\n",
    "**Missing Value Indicator**: -1 ( Missing value indicator is 0 for click_timestamp)\n",
    "\n",
    "**Outcome/Labels**\n",
    "- Sale : Indicates 1 if conversion occurred and 0 if not).\n",
    "- SalesAmountInEuro : Indicates the revenue obtained when a conversion took place. This might be different from product-price, due to attribution issues. It is -1, when no conversion took place.\n",
    "- Time_delay_for_conversion : This indicates the time between click and conversion. It is -1, when no conversion took place.\n",
    "\n",
    "**Features**\n",
    "- click_timestamp: Timestamp of the click. The dataset is sorted according to timestamp.\n",
    "- nb_clicks_1week: Number of clicks the product related advertisement has received in the last 1 week.\n",
    "- product_price: Price of the product shown in the advertisement.\n",
    "- product_age_group: The intended user age group of the user, the product is made for.\n",
    "- device_type: This indicates whether it is a returning user or a new user on mobile, tablet or desktop.\n",
    "- audience_id:  Meaning of this feature not disclosed\n",
    "- product_gender: The intended gender of the user, the product is made for.\n",
    "- product_brand: Categorical feature about the brand of the product.\n",
    "- product_category(1-7): Categorical features associated to the product. Meaning of features not disclosed.\n",
    "- product_country: Country in which the product is sold.\n",
    "- product_id: Unique identifier associated with every product.\n",
    "- product_title: Hashed title of the product.\n",
    "- partner_id: Unique identifier associated with the seller of the product.\n",
    "- user_id: Unique identifier associated with every user.\n",
    "\n",
    "Note : All categorical features have been hashed.\n",
    "\n",
    "**Dataset Size**\n",
    "  - Compressed: 310 MB\n",
    "  - ExtractRawDataed: 6.4 GB\n",
    "\n",
    "**Data Access**\n",
    "\n",
    "As of this writing the dataset may be obtained from the [Criteo AI Lab](http://ailab.criteo.com/criteo-sponsored-search-conversion-log-dataset/) website."
   ]
  }
 ],
 "metadata": {
  "jupytext": {
   "text_representation": {
    "extension": ".md",
    "format_name": "myst",
    "format_version": 0.13,
    "jupytext_version": "1.11.5"
   }
  },
  "kernelspec": {
   "display_name": "Python 3",
   "language": "python",
   "name": "python3"
  },
  "language_info": {
   "codemirror_mode": {
    "name": "ipython",
    "version": 3
   },
   "file_extension": ".py",
   "mimetype": "text/x-python",
   "name": "python",
   "nbconvert_exporter": "python",
   "pygments_lexer": "ipython3",
   "version": "3.7.12"
  },
  "source_map": [
   12
  ]
 },
 "nbformat": 4,
 "nbformat_minor": 5
}